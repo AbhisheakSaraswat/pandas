{
 "cells": [
  {
   "cell_type": "code",
   "execution_count": 1,
   "metadata": {},
   "outputs": [],
   "source": [
    "import pandas as pd"
   ]
  },
  {
   "cell_type": "code",
   "execution_count": 2,
   "metadata": {},
   "outputs": [
    {
     "name": "stdout",
     "output_type": "stream",
     "text": [
      "Help on function merge in module pandas.core.reshape.merge:\n",
      "\n",
      "merge(left, right, how: str = 'inner', on=None, left_on=None, right_on=None, left_index: bool = False, right_index: bool = False, sort: bool = False, suffixes=('_x', '_y'), copy: bool = True, indicator: bool = False, validate=None) -> 'DataFrame'\n",
      "    Merge DataFrame or named Series objects with a database-style join.\n",
      "    \n",
      "    The join is done on columns or indexes. If joining columns on\n",
      "    columns, the DataFrame indexes *will be ignored*. Otherwise if joining indexes\n",
      "    on indexes or indexes on a column or columns, the index will be passed on.\n",
      "    When performing a cross merge, no column specifications to merge on are\n",
      "    allowed.\n",
      "    \n",
      "    Parameters\n",
      "    ----------\n",
      "    left : DataFrame\n",
      "    right : DataFrame or named Series\n",
      "        Object to merge with.\n",
      "    how : {'left', 'right', 'outer', 'inner', 'cross'}, default 'inner'\n",
      "        Type of merge to be performed.\n",
      "    \n",
      "        * left: use only keys from left frame, similar to a SQL left outer join;\n",
      "          preserve key order.\n",
      "        * right: use only keys from right frame, similar to a SQL right outer join;\n",
      "          preserve key order.\n",
      "        * outer: use union of keys from both frames, similar to a SQL full outer\n",
      "          join; sort keys lexicographically.\n",
      "        * inner: use intersection of keys from both frames, similar to a SQL inner\n",
      "          join; preserve the order of the left keys.\n",
      "        * cross: creates the cartesian product from both frames, preserves the order\n",
      "          of the left keys.\n",
      "    \n",
      "          .. versionadded:: 1.2.0\n",
      "    \n",
      "    on : label or list\n",
      "        Column or index level names to join on. These must be found in both\n",
      "        DataFrames. If `on` is None and not merging on indexes then this defaults\n",
      "        to the intersection of the columns in both DataFrames.\n",
      "    left_on : label or list, or array-like\n",
      "        Column or index level names to join on in the left DataFrame. Can also\n",
      "        be an array or list of arrays of the length of the left DataFrame.\n",
      "        These arrays are treated as if they are columns.\n",
      "    right_on : label or list, or array-like\n",
      "        Column or index level names to join on in the right DataFrame. Can also\n",
      "        be an array or list of arrays of the length of the right DataFrame.\n",
      "        These arrays are treated as if they are columns.\n",
      "    left_index : bool, default False\n",
      "        Use the index from the left DataFrame as the join key(s). If it is a\n",
      "        MultiIndex, the number of keys in the other DataFrame (either the index\n",
      "        or a number of columns) must match the number of levels.\n",
      "    right_index : bool, default False\n",
      "        Use the index from the right DataFrame as the join key. Same caveats as\n",
      "        left_index.\n",
      "    sort : bool, default False\n",
      "        Sort the join keys lexicographically in the result DataFrame. If False,\n",
      "        the order of the join keys depends on the join type (how keyword).\n",
      "    suffixes : list-like, default is (\"_x\", \"_y\")\n",
      "        A length-2 sequence where each element is optionally a string\n",
      "        indicating the suffix to add to overlapping column names in\n",
      "        `left` and `right` respectively. Pass a value of `None` instead\n",
      "        of a string to indicate that the column name from `left` or\n",
      "        `right` should be left as-is, with no suffix. At least one of the\n",
      "        values must not be None.\n",
      "    copy : bool, default True\n",
      "        If False, avoid copy if possible.\n",
      "    indicator : bool or str, default False\n",
      "        If True, adds a column to the output DataFrame called \"_merge\" with\n",
      "        information on the source of each row. The column can be given a different\n",
      "        name by providing a string argument. The column will have a Categorical\n",
      "        type with the value of \"left_only\" for observations whose merge key only\n",
      "        appears in the left DataFrame, \"right_only\" for observations\n",
      "        whose merge key only appears in the right DataFrame, and \"both\"\n",
      "        if the observation's merge key is found in both DataFrames.\n",
      "    \n",
      "    validate : str, optional\n",
      "        If specified, checks if merge is of specified type.\n",
      "    \n",
      "        * \"one_to_one\" or \"1:1\": check if merge keys are unique in both\n",
      "          left and right datasets.\n",
      "        * \"one_to_many\" or \"1:m\": check if merge keys are unique in left\n",
      "          dataset.\n",
      "        * \"many_to_one\" or \"m:1\": check if merge keys are unique in right\n",
      "          dataset.\n",
      "        * \"many_to_many\" or \"m:m\": allowed, but does not result in checks.\n",
      "    \n",
      "    Returns\n",
      "    -------\n",
      "    DataFrame\n",
      "        A DataFrame of the two merged objects.\n",
      "    \n",
      "    See Also\n",
      "    --------\n",
      "    merge_ordered : Merge with optional filling/interpolation.\n",
      "    merge_asof : Merge on nearest keys.\n",
      "    DataFrame.join : Similar method using indices.\n",
      "    \n",
      "    Notes\n",
      "    -----\n",
      "    Support for specifying index levels as the `on`, `left_on`, and\n",
      "    `right_on` parameters was added in version 0.23.0\n",
      "    Support for merging named Series objects was added in version 0.24.0\n",
      "    \n",
      "    Examples\n",
      "    --------\n",
      "    >>> df1 = pd.DataFrame({'lkey': ['foo', 'bar', 'baz', 'foo'],\n",
      "    ...                     'value': [1, 2, 3, 5]})\n",
      "    >>> df2 = pd.DataFrame({'rkey': ['foo', 'bar', 'baz', 'foo'],\n",
      "    ...                     'value': [5, 6, 7, 8]})\n",
      "    >>> df1\n",
      "        lkey value\n",
      "    0   foo      1\n",
      "    1   bar      2\n",
      "    2   baz      3\n",
      "    3   foo      5\n",
      "    >>> df2\n",
      "        rkey value\n",
      "    0   foo      5\n",
      "    1   bar      6\n",
      "    2   baz      7\n",
      "    3   foo      8\n",
      "    \n",
      "    Merge df1 and df2 on the lkey and rkey columns. The value columns have\n",
      "    the default suffixes, _x and _y, appended.\n",
      "    \n",
      "    >>> df1.merge(df2, left_on='lkey', right_on='rkey')\n",
      "      lkey  value_x rkey  value_y\n",
      "    0  foo        1  foo        5\n",
      "    1  foo        1  foo        8\n",
      "    2  foo        5  foo        5\n",
      "    3  foo        5  foo        8\n",
      "    4  bar        2  bar        6\n",
      "    5  baz        3  baz        7\n",
      "    \n",
      "    Merge DataFrames df1 and df2 with specified left and right suffixes\n",
      "    appended to any overlapping columns.\n",
      "    \n",
      "    >>> df1.merge(df2, left_on='lkey', right_on='rkey',\n",
      "    ...           suffixes=('_left', '_right'))\n",
      "      lkey  value_left rkey  value_right\n",
      "    0  foo           1  foo            5\n",
      "    1  foo           1  foo            8\n",
      "    2  foo           5  foo            5\n",
      "    3  foo           5  foo            8\n",
      "    4  bar           2  bar            6\n",
      "    5  baz           3  baz            7\n",
      "    \n",
      "    Merge DataFrames df1 and df2, but raise an exception if the DataFrames have\n",
      "    any overlapping columns.\n",
      "    \n",
      "    >>> df1.merge(df2, left_on='lkey', right_on='rkey', suffixes=(False, False))\n",
      "    Traceback (most recent call last):\n",
      "    ...\n",
      "    ValueError: columns overlap but no suffix specified:\n",
      "        Index(['value'], dtype='object')\n",
      "    \n",
      "    >>> df1 = pd.DataFrame({'a': ['foo', 'bar'], 'b': [1, 2]})\n",
      "    >>> df2 = pd.DataFrame({'a': ['foo', 'baz'], 'c': [3, 4]})\n",
      "    >>> df1\n",
      "          a  b\n",
      "    0   foo  1\n",
      "    1   bar  2\n",
      "    >>> df2\n",
      "          a  c\n",
      "    0   foo  3\n",
      "    1   baz  4\n",
      "    \n",
      "    >>> df1.merge(df2, how='inner', on='a')\n",
      "          a  b  c\n",
      "    0   foo  1  3\n",
      "    \n",
      "    >>> df1.merge(df2, how='left', on='a')\n",
      "          a  b  c\n",
      "    0   foo  1  3.0\n",
      "    1   bar  2  NaN\n",
      "    \n",
      "    >>> df1 = pd.DataFrame({'left': ['foo', 'bar']})\n",
      "    >>> df2 = pd.DataFrame({'right': [7, 8]})\n",
      "    >>> df1\n",
      "        left\n",
      "    0   foo\n",
      "    1   bar\n",
      "    >>> df2\n",
      "        right\n",
      "    0   7\n",
      "    1   8\n",
      "    \n",
      "    >>> df1.merge(df2, how='cross')\n",
      "       left  right\n",
      "    0   foo      7\n",
      "    1   foo      8\n",
      "    2   bar      7\n",
      "    3   bar      8\n",
      "\n"
     ]
    }
   ],
   "source": [
    "help(pd.merge)"
   ]
  },
  {
   "cell_type": "markdown",
   "metadata": {},
   "source": [
    "Parameters\n",
    "    ----------\n",
    "    left : DataFrame\n",
    "    right : DataFrame or named Series\n",
    "        Object to merge with.\n",
    "    how : {'left', 'right', 'outer', 'inner', 'cross'}, default 'inner'\n",
    "        Type of merge to be performed.\n",
    "    \n",
    "        * left: use only keys from left frame, similar to a SQL left outer join;\n",
    "          preserve key order.\n",
    "        * right: use only keys from right frame, similar to a SQL right outer join;\n",
    "          preserve key order.\n",
    "        * outer: use union of keys from both frames, similar to a SQL full outer\n",
    "          join; sort keys lexicographically.\n",
    "        * inner: use intersection of keys from both frames, similar to a SQL inner\n",
    "          join; preserve the order of the left keys.\n",
    "        * cross: creates the cartesian product from both frames, preserves the order\n",
    "          of the left keys."
   ]
  },
  {
   "cell_type": "markdown",
   "metadata": {},
   "source": [
    "## Type of Merge Operations:\n",
    "\n",
    "1.) Inner Join   \n",
    "2.) Left Join   | Left Outer Join  \n",
    "3.) Right Join  | Right Outer Join  \n",
    "4.) Outer Join | Full Outer Join  \n",
    "5.) Cross Join   "
   ]
  },
  {
   "cell_type": "code",
   "execution_count": 3,
   "metadata": {},
   "outputs": [],
   "source": [
    "# Inner Join:"
   ]
  },
  {
   "cell_type": "code",
   "execution_count": 6,
   "metadata": {},
   "outputs": [],
   "source": [
    "order = pd.read_excel(\"Sales Order.xlsx\",sheet_name=\"Orders\")\n",
    "returns = pd.read_excel(\"Sales Order.xlsx\",sheet_name=\"Returns\")"
   ]
  },
  {
   "cell_type": "code",
   "execution_count": 7,
   "metadata": {},
   "outputs": [
    {
     "name": "stdout",
     "output_type": "stream",
     "text": [
      "(5000, 7) (2000, 5)\n"
     ]
    }
   ],
   "source": [
    "print(order.shape, returns.shape)"
   ]
  },
  {
   "cell_type": "code",
   "execution_count": 8,
   "metadata": {},
   "outputs": [
    {
     "data": {
      "text/html": [
       "<div>\n",
       "<style scoped>\n",
       "    .dataframe tbody tr th:only-of-type {\n",
       "        vertical-align: middle;\n",
       "    }\n",
       "\n",
       "    .dataframe tbody tr th {\n",
       "        vertical-align: top;\n",
       "    }\n",
       "\n",
       "    .dataframe thead th {\n",
       "        text-align: right;\n",
       "    }\n",
       "</style>\n",
       "<table border=\"1\" class=\"dataframe\">\n",
       "  <thead>\n",
       "    <tr style=\"text-align: right;\">\n",
       "      <th></th>\n",
       "      <th>Order ID</th>\n",
       "      <th>Unique ID</th>\n",
       "      <th>Customer</th>\n",
       "      <th>City</th>\n",
       "      <th>Quantity</th>\n",
       "      <th>Price</th>\n",
       "      <th>Total Sale Amount</th>\n",
       "    </tr>\n",
       "  </thead>\n",
       "  <tbody>\n",
       "    <tr>\n",
       "      <th>0</th>\n",
       "      <td>NJ-2016-152156</td>\n",
       "      <td>NJ-2016-TT-107</td>\n",
       "      <td>Raymond Young</td>\n",
       "      <td>Troy</td>\n",
       "      <td>6</td>\n",
       "      <td>12.42</td>\n",
       "      <td>74.52</td>\n",
       "    </tr>\n",
       "    <tr>\n",
       "      <th>1</th>\n",
       "      <td>NJ-2016-138688</td>\n",
       "      <td>NJ-2016-PC-944</td>\n",
       "      <td>Helen Dean</td>\n",
       "      <td>Westfield</td>\n",
       "      <td>7</td>\n",
       "      <td>12.42</td>\n",
       "      <td>86.94</td>\n",
       "    </tr>\n",
       "    <tr>\n",
       "      <th>2</th>\n",
       "      <td>WA-2015-108966</td>\n",
       "      <td>WA-2015-TQ-107</td>\n",
       "      <td>Shirley Chavez</td>\n",
       "      <td>Seattle</td>\n",
       "      <td>2</td>\n",
       "      <td>16.32</td>\n",
       "      <td>32.64</td>\n",
       "    </tr>\n",
       "    <tr>\n",
       "      <th>3</th>\n",
       "      <td>NJ-2014-115812</td>\n",
       "      <td>NJ-2014-ZI-111</td>\n",
       "      <td>Brian Ryan</td>\n",
       "      <td>Westfield</td>\n",
       "      <td>1</td>\n",
       "      <td>12.42</td>\n",
       "      <td>12.42</td>\n",
       "    </tr>\n",
       "    <tr>\n",
       "      <th>4</th>\n",
       "      <td>NJ-2017-114412</td>\n",
       "      <td>NJ-2017-JR-537</td>\n",
       "      <td>Benjamin Willis</td>\n",
       "      <td>Westfield</td>\n",
       "      <td>3</td>\n",
       "      <td>17.83</td>\n",
       "      <td>53.49</td>\n",
       "    </tr>\n",
       "  </tbody>\n",
       "</table>\n",
       "</div>"
      ],
      "text/plain": [
       "         Order ID       Unique ID         Customer       City  Quantity  \\\n",
       "0  NJ-2016-152156  NJ-2016-TT-107    Raymond Young       Troy         6   \n",
       "1  NJ-2016-138688  NJ-2016-PC-944       Helen Dean  Westfield         7   \n",
       "2  WA-2015-108966  WA-2015-TQ-107   Shirley Chavez    Seattle         2   \n",
       "3  NJ-2014-115812  NJ-2014-ZI-111       Brian Ryan  Westfield         1   \n",
       "4  NJ-2017-114412  NJ-2017-JR-537  Benjamin Willis  Westfield         3   \n",
       "\n",
       "   Price  Total Sale Amount  \n",
       "0  12.42              74.52  \n",
       "1  12.42              86.94  \n",
       "2  16.32              32.64  \n",
       "3  12.42              12.42  \n",
       "4  17.83              53.49  "
      ]
     },
     "execution_count": 8,
     "metadata": {},
     "output_type": "execute_result"
    }
   ],
   "source": [
    "order.head()"
   ]
  },
  {
   "cell_type": "code",
   "execution_count": 9,
   "metadata": {},
   "outputs": [
    {
     "data": {
      "text/html": [
       "<div>\n",
       "<style scoped>\n",
       "    .dataframe tbody tr th:only-of-type {\n",
       "        vertical-align: middle;\n",
       "    }\n",
       "\n",
       "    .dataframe tbody tr th {\n",
       "        vertical-align: top;\n",
       "    }\n",
       "\n",
       "    .dataframe thead th {\n",
       "        text-align: right;\n",
       "    }\n",
       "</style>\n",
       "<table border=\"1\" class=\"dataframe\">\n",
       "  <thead>\n",
       "    <tr style=\"text-align: right;\">\n",
       "      <th></th>\n",
       "      <th>Order ID</th>\n",
       "      <th>Unique ID</th>\n",
       "      <th>Customer</th>\n",
       "      <th>City</th>\n",
       "      <th>State</th>\n",
       "    </tr>\n",
       "  </thead>\n",
       "  <tbody>\n",
       "    <tr>\n",
       "      <th>0</th>\n",
       "      <td>NJ-2016-273214</td>\n",
       "      <td>NJ-ZKDFQ-821902</td>\n",
       "      <td>Raymond Young</td>\n",
       "      <td>Troy</td>\n",
       "      <td>New York</td>\n",
       "    </tr>\n",
       "    <tr>\n",
       "      <th>1</th>\n",
       "      <td>NJ-2016-271456</td>\n",
       "      <td>NJ-UTHRK-895117</td>\n",
       "      <td>Helen Dean</td>\n",
       "      <td>Westfield</td>\n",
       "      <td>New Jersey</td>\n",
       "    </tr>\n",
       "    <tr>\n",
       "      <th>2</th>\n",
       "      <td>WA-2015-451988</td>\n",
       "      <td>WA-ETBAQ-135442</td>\n",
       "      <td>Shirley Chavez</td>\n",
       "      <td>Seattle</td>\n",
       "      <td>Washington</td>\n",
       "    </tr>\n",
       "    <tr>\n",
       "      <th>3</th>\n",
       "      <td>NJ-2014-352961</td>\n",
       "      <td>NJ-EHGXM-601830</td>\n",
       "      <td>Brian Ryan</td>\n",
       "      <td>Westfield</td>\n",
       "      <td>New Jersey</td>\n",
       "    </tr>\n",
       "    <tr>\n",
       "      <th>4</th>\n",
       "      <td>NJ-2017-213231</td>\n",
       "      <td>NJ-CJFQS-287500</td>\n",
       "      <td>Benjamin Willis</td>\n",
       "      <td>Westfield</td>\n",
       "      <td>New Jersey</td>\n",
       "    </tr>\n",
       "  </tbody>\n",
       "</table>\n",
       "</div>"
      ],
      "text/plain": [
       "         Order ID        Unique ID         Customer       City       State\n",
       "0  NJ-2016-273214  NJ-ZKDFQ-821902    Raymond Young       Troy    New York\n",
       "1  NJ-2016-271456  NJ-UTHRK-895117       Helen Dean  Westfield  New Jersey\n",
       "2  WA-2015-451988  WA-ETBAQ-135442   Shirley Chavez    Seattle  Washington\n",
       "3  NJ-2014-352961  NJ-EHGXM-601830       Brian Ryan  Westfield  New Jersey\n",
       "4  NJ-2017-213231  NJ-CJFQS-287500  Benjamin Willis  Westfield  New Jersey"
      ]
     },
     "execution_count": 9,
     "metadata": {},
     "output_type": "execute_result"
    }
   ],
   "source": [
    "returns.head()"
   ]
  },
  {
   "cell_type": "code",
   "execution_count": 10,
   "metadata": {},
   "outputs": [],
   "source": [
    "inner_join = pd.merge(left=order, right=returns, left_on = \"Order ID\", right_on=\"Order ID\")"
   ]
  },
  {
   "cell_type": "code",
   "execution_count": 11,
   "metadata": {},
   "outputs": [
    {
     "data": {
      "text/plain": [
       "(89, 11)"
      ]
     },
     "execution_count": 11,
     "metadata": {},
     "output_type": "execute_result"
    }
   ],
   "source": [
    "inner_join.shape"
   ]
  },
  {
   "cell_type": "code",
   "execution_count": 12,
   "metadata": {},
   "outputs": [],
   "source": [
    "inner_join = pd.merge(left=order, right=returns, on = \"Order ID\")"
   ]
  },
  {
   "cell_type": "code",
   "execution_count": 13,
   "metadata": {},
   "outputs": [
    {
     "data": {
      "text/plain": [
       "(89, 11)"
      ]
     },
     "execution_count": 13,
     "metadata": {},
     "output_type": "execute_result"
    }
   ],
   "source": [
    "inner_join.shape"
   ]
  },
  {
   "cell_type": "code",
   "execution_count": 14,
   "metadata": {},
   "outputs": [],
   "source": [
    "inner_join = pd.merge(left=order, right=returns,on = \"Order ID\", how = \"inner\")"
   ]
  },
  {
   "cell_type": "code",
   "execution_count": 15,
   "metadata": {},
   "outputs": [
    {
     "data": {
      "text/html": [
       "<div>\n",
       "<style scoped>\n",
       "    .dataframe tbody tr th:only-of-type {\n",
       "        vertical-align: middle;\n",
       "    }\n",
       "\n",
       "    .dataframe tbody tr th {\n",
       "        vertical-align: top;\n",
       "    }\n",
       "\n",
       "    .dataframe thead th {\n",
       "        text-align: right;\n",
       "    }\n",
       "</style>\n",
       "<table border=\"1\" class=\"dataframe\">\n",
       "  <thead>\n",
       "    <tr style=\"text-align: right;\">\n",
       "      <th></th>\n",
       "      <th>Order ID</th>\n",
       "      <th>Unique ID_x</th>\n",
       "      <th>Customer_x</th>\n",
       "      <th>City_x</th>\n",
       "      <th>Quantity</th>\n",
       "      <th>Price</th>\n",
       "      <th>Total Sale Amount</th>\n",
       "      <th>Unique ID_y</th>\n",
       "      <th>Customer_y</th>\n",
       "      <th>City_y</th>\n",
       "      <th>State</th>\n",
       "    </tr>\n",
       "  </thead>\n",
       "  <tbody>\n",
       "    <tr>\n",
       "      <th>0</th>\n",
       "      <td>WA-2016-117590</td>\n",
       "      <td>NJ-TEXWY-11752</td>\n",
       "      <td>Judy Sanchez</td>\n",
       "      <td>Seattle</td>\n",
       "      <td>7</td>\n",
       "      <td>53.35</td>\n",
       "      <td>373.45</td>\n",
       "      <td>NJ-TEXWY-11752</td>\n",
       "      <td>Judy Sanchez</td>\n",
       "      <td>Seattle</td>\n",
       "      <td>Washington</td>\n",
       "    </tr>\n",
       "    <tr>\n",
       "      <th>1</th>\n",
       "      <td>WA-2015-117415</td>\n",
       "      <td>NJ-QDWAV-21173</td>\n",
       "      <td>Harold Hunter</td>\n",
       "      <td>Seattle</td>\n",
       "      <td>4</td>\n",
       "      <td>12.42</td>\n",
       "      <td>49.68</td>\n",
       "      <td>NJ-QDWAV-21173</td>\n",
       "      <td>Harold Hunter</td>\n",
       "      <td>Seattle</td>\n",
       "      <td>Washington</td>\n",
       "    </tr>\n",
       "    <tr>\n",
       "      <th>2</th>\n",
       "      <td>MA-2017-120999</td>\n",
       "      <td>WA-JJEKO-18817</td>\n",
       "      <td>Lori Shaw</td>\n",
       "      <td>Lowell</td>\n",
       "      <td>7</td>\n",
       "      <td>16.32</td>\n",
       "      <td>114.24</td>\n",
       "      <td>WA-JJEKO-18817</td>\n",
       "      <td>Lori Shaw</td>\n",
       "      <td>Lowell</td>\n",
       "      <td>Massachusetts</td>\n",
       "    </tr>\n",
       "    <tr>\n",
       "      <th>3</th>\n",
       "      <td>NJ-2016-101343</td>\n",
       "      <td>NJ-MJQGV-20387</td>\n",
       "      <td>Sandra Hicks</td>\n",
       "      <td>Troy</td>\n",
       "      <td>1</td>\n",
       "      <td>53.35</td>\n",
       "      <td>53.35</td>\n",
       "      <td>NJ-MJQGV-20387</td>\n",
       "      <td>Sandra Hicks</td>\n",
       "      <td>Troy</td>\n",
       "      <td>New York</td>\n",
       "    </tr>\n",
       "    <tr>\n",
       "      <th>4</th>\n",
       "      <td>MA-2017-139619</td>\n",
       "      <td>NJ-SDISO-30581</td>\n",
       "      <td>Roger Gomez</td>\n",
       "      <td>Lowell</td>\n",
       "      <td>7</td>\n",
       "      <td>16.32</td>\n",
       "      <td>114.24</td>\n",
       "      <td>NJ-SDISO-30581</td>\n",
       "      <td>Roger Gomez</td>\n",
       "      <td>Lowell</td>\n",
       "      <td>Massachusetts</td>\n",
       "    </tr>\n",
       "  </tbody>\n",
       "</table>\n",
       "</div>"
      ],
      "text/plain": [
       "         Order ID     Unique ID_x     Customer_x   City_x  Quantity  Price  \\\n",
       "0  WA-2016-117590  NJ-TEXWY-11752   Judy Sanchez  Seattle         7  53.35   \n",
       "1  WA-2015-117415  NJ-QDWAV-21173  Harold Hunter  Seattle         4  12.42   \n",
       "2  MA-2017-120999  WA-JJEKO-18817      Lori Shaw   Lowell         7  16.32   \n",
       "3  NJ-2016-101343  NJ-MJQGV-20387   Sandra Hicks     Troy         1  53.35   \n",
       "4  MA-2017-139619  NJ-SDISO-30581    Roger Gomez   Lowell         7  16.32   \n",
       "\n",
       "   Total Sale Amount     Unique ID_y     Customer_y   City_y          State  \n",
       "0             373.45  NJ-TEXWY-11752   Judy Sanchez  Seattle     Washington  \n",
       "1              49.68  NJ-QDWAV-21173  Harold Hunter  Seattle     Washington  \n",
       "2             114.24  WA-JJEKO-18817      Lori Shaw   Lowell  Massachusetts  \n",
       "3              53.35  NJ-MJQGV-20387   Sandra Hicks     Troy       New York  \n",
       "4             114.24  NJ-SDISO-30581    Roger Gomez   Lowell  Massachusetts  "
      ]
     },
     "execution_count": 15,
     "metadata": {},
     "output_type": "execute_result"
    }
   ],
   "source": [
    "inner_join.head()"
   ]
  },
  {
   "cell_type": "code",
   "execution_count": 16,
   "metadata": {},
   "outputs": [],
   "source": [
    "inner_join = pd.merge(left=order, right=returns,on = \"Order ID\", how = \"inner\", \n",
    "                      suffixes=(\"_OrderT\",\"_ReturnsT\"))"
   ]
  },
  {
   "cell_type": "code",
   "execution_count": 17,
   "metadata": {},
   "outputs": [
    {
     "data": {
      "text/html": [
       "<div>\n",
       "<style scoped>\n",
       "    .dataframe tbody tr th:only-of-type {\n",
       "        vertical-align: middle;\n",
       "    }\n",
       "\n",
       "    .dataframe tbody tr th {\n",
       "        vertical-align: top;\n",
       "    }\n",
       "\n",
       "    .dataframe thead th {\n",
       "        text-align: right;\n",
       "    }\n",
       "</style>\n",
       "<table border=\"1\" class=\"dataframe\">\n",
       "  <thead>\n",
       "    <tr style=\"text-align: right;\">\n",
       "      <th></th>\n",
       "      <th>Order ID</th>\n",
       "      <th>Unique ID_OrderT</th>\n",
       "      <th>Customer_OrderT</th>\n",
       "      <th>City_OrderT</th>\n",
       "      <th>Quantity</th>\n",
       "      <th>Price</th>\n",
       "      <th>Total Sale Amount</th>\n",
       "      <th>Unique ID_ReturnsT</th>\n",
       "      <th>Customer_ReturnsT</th>\n",
       "      <th>City_ReturnsT</th>\n",
       "      <th>State</th>\n",
       "    </tr>\n",
       "  </thead>\n",
       "  <tbody>\n",
       "    <tr>\n",
       "      <th>0</th>\n",
       "      <td>WA-2016-117590</td>\n",
       "      <td>NJ-TEXWY-11752</td>\n",
       "      <td>Judy Sanchez</td>\n",
       "      <td>Seattle</td>\n",
       "      <td>7</td>\n",
       "      <td>53.35</td>\n",
       "      <td>373.45</td>\n",
       "      <td>NJ-TEXWY-11752</td>\n",
       "      <td>Judy Sanchez</td>\n",
       "      <td>Seattle</td>\n",
       "      <td>Washington</td>\n",
       "    </tr>\n",
       "    <tr>\n",
       "      <th>1</th>\n",
       "      <td>WA-2015-117415</td>\n",
       "      <td>NJ-QDWAV-21173</td>\n",
       "      <td>Harold Hunter</td>\n",
       "      <td>Seattle</td>\n",
       "      <td>4</td>\n",
       "      <td>12.42</td>\n",
       "      <td>49.68</td>\n",
       "      <td>NJ-QDWAV-21173</td>\n",
       "      <td>Harold Hunter</td>\n",
       "      <td>Seattle</td>\n",
       "      <td>Washington</td>\n",
       "    </tr>\n",
       "    <tr>\n",
       "      <th>2</th>\n",
       "      <td>MA-2017-120999</td>\n",
       "      <td>WA-JJEKO-18817</td>\n",
       "      <td>Lori Shaw</td>\n",
       "      <td>Lowell</td>\n",
       "      <td>7</td>\n",
       "      <td>16.32</td>\n",
       "      <td>114.24</td>\n",
       "      <td>WA-JJEKO-18817</td>\n",
       "      <td>Lori Shaw</td>\n",
       "      <td>Lowell</td>\n",
       "      <td>Massachusetts</td>\n",
       "    </tr>\n",
       "    <tr>\n",
       "      <th>3</th>\n",
       "      <td>NJ-2016-101343</td>\n",
       "      <td>NJ-MJQGV-20387</td>\n",
       "      <td>Sandra Hicks</td>\n",
       "      <td>Troy</td>\n",
       "      <td>1</td>\n",
       "      <td>53.35</td>\n",
       "      <td>53.35</td>\n",
       "      <td>NJ-MJQGV-20387</td>\n",
       "      <td>Sandra Hicks</td>\n",
       "      <td>Troy</td>\n",
       "      <td>New York</td>\n",
       "    </tr>\n",
       "    <tr>\n",
       "      <th>4</th>\n",
       "      <td>MA-2017-139619</td>\n",
       "      <td>NJ-SDISO-30581</td>\n",
       "      <td>Roger Gomez</td>\n",
       "      <td>Lowell</td>\n",
       "      <td>7</td>\n",
       "      <td>16.32</td>\n",
       "      <td>114.24</td>\n",
       "      <td>NJ-SDISO-30581</td>\n",
       "      <td>Roger Gomez</td>\n",
       "      <td>Lowell</td>\n",
       "      <td>Massachusetts</td>\n",
       "    </tr>\n",
       "  </tbody>\n",
       "</table>\n",
       "</div>"
      ],
      "text/plain": [
       "         Order ID Unique ID_OrderT Customer_OrderT City_OrderT  Quantity  \\\n",
       "0  WA-2016-117590   NJ-TEXWY-11752    Judy Sanchez     Seattle         7   \n",
       "1  WA-2015-117415   NJ-QDWAV-21173   Harold Hunter     Seattle         4   \n",
       "2  MA-2017-120999   WA-JJEKO-18817       Lori Shaw      Lowell         7   \n",
       "3  NJ-2016-101343   NJ-MJQGV-20387    Sandra Hicks        Troy         1   \n",
       "4  MA-2017-139619   NJ-SDISO-30581     Roger Gomez      Lowell         7   \n",
       "\n",
       "   Price  Total Sale Amount Unique ID_ReturnsT Customer_ReturnsT  \\\n",
       "0  53.35             373.45     NJ-TEXWY-11752      Judy Sanchez   \n",
       "1  12.42              49.68     NJ-QDWAV-21173     Harold Hunter   \n",
       "2  16.32             114.24     WA-JJEKO-18817         Lori Shaw   \n",
       "3  53.35              53.35     NJ-MJQGV-20387      Sandra Hicks   \n",
       "4  16.32             114.24     NJ-SDISO-30581       Roger Gomez   \n",
       "\n",
       "  City_ReturnsT          State  \n",
       "0       Seattle     Washington  \n",
       "1       Seattle     Washington  \n",
       "2        Lowell  Massachusetts  \n",
       "3          Troy       New York  \n",
       "4        Lowell  Massachusetts  "
      ]
     },
     "execution_count": 17,
     "metadata": {},
     "output_type": "execute_result"
    }
   ],
   "source": [
    "inner_join.head()"
   ]
  },
  {
   "cell_type": "code",
   "execution_count": 18,
   "metadata": {},
   "outputs": [
    {
     "data": {
      "text/html": [
       "<div>\n",
       "<style scoped>\n",
       "    .dataframe tbody tr th:only-of-type {\n",
       "        vertical-align: middle;\n",
       "    }\n",
       "\n",
       "    .dataframe tbody tr th {\n",
       "        vertical-align: top;\n",
       "    }\n",
       "\n",
       "    .dataframe thead th {\n",
       "        text-align: right;\n",
       "    }\n",
       "</style>\n",
       "<table border=\"1\" class=\"dataframe\">\n",
       "  <thead>\n",
       "    <tr style=\"text-align: right;\">\n",
       "      <th></th>\n",
       "      <th>Order ID</th>\n",
       "      <th>Unique ID</th>\n",
       "      <th>Customer</th>\n",
       "      <th>City</th>\n",
       "      <th>Quantity</th>\n",
       "      <th>Price</th>\n",
       "      <th>Total Sale Amount</th>\n",
       "    </tr>\n",
       "  </thead>\n",
       "  <tbody>\n",
       "    <tr>\n",
       "      <th>0</th>\n",
       "      <td>NJ-2016-152156</td>\n",
       "      <td>NJ-2016-TT-107</td>\n",
       "      <td>Raymond Young</td>\n",
       "      <td>Troy</td>\n",
       "      <td>6</td>\n",
       "      <td>12.42</td>\n",
       "      <td>74.52</td>\n",
       "    </tr>\n",
       "  </tbody>\n",
       "</table>\n",
       "</div>"
      ],
      "text/plain": [
       "         Order ID       Unique ID       Customer  City  Quantity  Price  \\\n",
       "0  NJ-2016-152156  NJ-2016-TT-107  Raymond Young  Troy         6  12.42   \n",
       "\n",
       "   Total Sale Amount  \n",
       "0              74.52  "
      ]
     },
     "execution_count": 18,
     "metadata": {},
     "output_type": "execute_result"
    }
   ],
   "source": [
    "order.head(1)"
   ]
  },
  {
   "cell_type": "code",
   "execution_count": 19,
   "metadata": {},
   "outputs": [
    {
     "data": {
      "text/html": [
       "<div>\n",
       "<style scoped>\n",
       "    .dataframe tbody tr th:only-of-type {\n",
       "        vertical-align: middle;\n",
       "    }\n",
       "\n",
       "    .dataframe tbody tr th {\n",
       "        vertical-align: top;\n",
       "    }\n",
       "\n",
       "    .dataframe thead th {\n",
       "        text-align: right;\n",
       "    }\n",
       "</style>\n",
       "<table border=\"1\" class=\"dataframe\">\n",
       "  <thead>\n",
       "    <tr style=\"text-align: right;\">\n",
       "      <th></th>\n",
       "      <th>Order ID</th>\n",
       "      <th>Unique ID</th>\n",
       "      <th>Customer</th>\n",
       "      <th>City</th>\n",
       "      <th>State</th>\n",
       "    </tr>\n",
       "  </thead>\n",
       "  <tbody>\n",
       "    <tr>\n",
       "      <th>0</th>\n",
       "      <td>NJ-2016-273214</td>\n",
       "      <td>NJ-ZKDFQ-821902</td>\n",
       "      <td>Raymond Young</td>\n",
       "      <td>Troy</td>\n",
       "      <td>New York</td>\n",
       "    </tr>\n",
       "  </tbody>\n",
       "</table>\n",
       "</div>"
      ],
      "text/plain": [
       "         Order ID        Unique ID       Customer  City     State\n",
       "0  NJ-2016-273214  NJ-ZKDFQ-821902  Raymond Young  Troy  New York"
      ]
     },
     "execution_count": 19,
     "metadata": {},
     "output_type": "execute_result"
    }
   ],
   "source": [
    "returns.head(1)"
   ]
  },
  {
   "cell_type": "code",
   "execution_count": 20,
   "metadata": {},
   "outputs": [
    {
     "data": {
      "text/plain": [
       "False    4911\n",
       "True       89\n",
       "Name: Order ID, dtype: int64"
      ]
     },
     "execution_count": 20,
     "metadata": {},
     "output_type": "execute_result"
    }
   ],
   "source": [
    "order['Order ID'].isin(returns[\"Order ID\"]).value_counts()"
   ]
  },
  {
   "cell_type": "code",
   "execution_count": 22,
   "metadata": {},
   "outputs": [
    {
     "data": {
      "text/plain": [
       "Index(['Order ID', 'Unique ID', 'Customer', 'City', 'State'], dtype='object')"
      ]
     },
     "execution_count": 22,
     "metadata": {},
     "output_type": "execute_result"
    }
   ],
   "source": [
    "returns.columns"
   ]
  },
  {
   "cell_type": "code",
   "execution_count": 23,
   "metadata": {},
   "outputs": [],
   "source": [
    "returns.rename(columns = {\"Order ID\":\"Invoice ID\"},inplace = True)"
   ]
  },
  {
   "cell_type": "code",
   "execution_count": 24,
   "metadata": {},
   "outputs": [
    {
     "data": {
      "text/plain": [
       "Index(['Invoice ID', 'Unique ID', 'Customer', 'City', 'State'], dtype='object')"
      ]
     },
     "execution_count": 24,
     "metadata": {},
     "output_type": "execute_result"
    }
   ],
   "source": [
    "returns.columns"
   ]
  },
  {
   "cell_type": "code",
   "execution_count": 25,
   "metadata": {},
   "outputs": [],
   "source": [
    "inner_join = pd.merge(order, returns,left_on = \"Order ID\", right_on=\"Invoice ID\")"
   ]
  },
  {
   "cell_type": "code",
   "execution_count": 26,
   "metadata": {},
   "outputs": [
    {
     "data": {
      "text/plain": [
       "(89, 12)"
      ]
     },
     "execution_count": 26,
     "metadata": {},
     "output_type": "execute_result"
    }
   ],
   "source": [
    "inner_join.shape"
   ]
  },
  {
   "cell_type": "code",
   "execution_count": 27,
   "metadata": {},
   "outputs": [
    {
     "data": {
      "text/plain": [
       "(5000, 7)"
      ]
     },
     "execution_count": 27,
     "metadata": {},
     "output_type": "execute_result"
    }
   ],
   "source": [
    "order.shape"
   ]
  },
  {
   "cell_type": "code",
   "execution_count": 28,
   "metadata": {},
   "outputs": [
    {
     "data": {
      "text/plain": [
       "(2000, 5)"
      ]
     },
     "execution_count": 28,
     "metadata": {},
     "output_type": "execute_result"
    }
   ],
   "source": [
    "returns.shape"
   ]
  },
  {
   "cell_type": "code",
   "execution_count": 29,
   "metadata": {},
   "outputs": [
    {
     "data": {
      "text/html": [
       "<div>\n",
       "<style scoped>\n",
       "    .dataframe tbody tr th:only-of-type {\n",
       "        vertical-align: middle;\n",
       "    }\n",
       "\n",
       "    .dataframe tbody tr th {\n",
       "        vertical-align: top;\n",
       "    }\n",
       "\n",
       "    .dataframe thead th {\n",
       "        text-align: right;\n",
       "    }\n",
       "</style>\n",
       "<table border=\"1\" class=\"dataframe\">\n",
       "  <thead>\n",
       "    <tr style=\"text-align: right;\">\n",
       "      <th></th>\n",
       "      <th>Order ID</th>\n",
       "      <th>Unique ID_x</th>\n",
       "      <th>Customer_x</th>\n",
       "      <th>City_x</th>\n",
       "      <th>Quantity</th>\n",
       "      <th>Price</th>\n",
       "      <th>Total Sale Amount</th>\n",
       "      <th>Invoice ID</th>\n",
       "      <th>Unique ID_y</th>\n",
       "      <th>Customer_y</th>\n",
       "      <th>City_y</th>\n",
       "      <th>State</th>\n",
       "    </tr>\n",
       "  </thead>\n",
       "  <tbody>\n",
       "    <tr>\n",
       "      <th>0</th>\n",
       "      <td>WA-2016-117590</td>\n",
       "      <td>NJ-TEXWY-11752</td>\n",
       "      <td>Judy Sanchez</td>\n",
       "      <td>Seattle</td>\n",
       "      <td>7</td>\n",
       "      <td>53.35</td>\n",
       "      <td>373.45</td>\n",
       "      <td>WA-2016-117590</td>\n",
       "      <td>NJ-TEXWY-11752</td>\n",
       "      <td>Judy Sanchez</td>\n",
       "      <td>Seattle</td>\n",
       "      <td>Washington</td>\n",
       "    </tr>\n",
       "    <tr>\n",
       "      <th>1</th>\n",
       "      <td>WA-2015-117415</td>\n",
       "      <td>NJ-QDWAV-21173</td>\n",
       "      <td>Harold Hunter</td>\n",
       "      <td>Seattle</td>\n",
       "      <td>4</td>\n",
       "      <td>12.42</td>\n",
       "      <td>49.68</td>\n",
       "      <td>WA-2015-117415</td>\n",
       "      <td>NJ-QDWAV-21173</td>\n",
       "      <td>Harold Hunter</td>\n",
       "      <td>Seattle</td>\n",
       "      <td>Washington</td>\n",
       "    </tr>\n",
       "    <tr>\n",
       "      <th>2</th>\n",
       "      <td>MA-2017-120999</td>\n",
       "      <td>WA-JJEKO-18817</td>\n",
       "      <td>Lori Shaw</td>\n",
       "      <td>Lowell</td>\n",
       "      <td>7</td>\n",
       "      <td>16.32</td>\n",
       "      <td>114.24</td>\n",
       "      <td>MA-2017-120999</td>\n",
       "      <td>WA-JJEKO-18817</td>\n",
       "      <td>Lori Shaw</td>\n",
       "      <td>Lowell</td>\n",
       "      <td>Massachusetts</td>\n",
       "    </tr>\n",
       "    <tr>\n",
       "      <th>3</th>\n",
       "      <td>NJ-2016-101343</td>\n",
       "      <td>NJ-MJQGV-20387</td>\n",
       "      <td>Sandra Hicks</td>\n",
       "      <td>Troy</td>\n",
       "      <td>1</td>\n",
       "      <td>53.35</td>\n",
       "      <td>53.35</td>\n",
       "      <td>NJ-2016-101343</td>\n",
       "      <td>NJ-MJQGV-20387</td>\n",
       "      <td>Sandra Hicks</td>\n",
       "      <td>Troy</td>\n",
       "      <td>New York</td>\n",
       "    </tr>\n",
       "    <tr>\n",
       "      <th>4</th>\n",
       "      <td>MA-2017-139619</td>\n",
       "      <td>NJ-SDISO-30581</td>\n",
       "      <td>Roger Gomez</td>\n",
       "      <td>Lowell</td>\n",
       "      <td>7</td>\n",
       "      <td>16.32</td>\n",
       "      <td>114.24</td>\n",
       "      <td>MA-2017-139619</td>\n",
       "      <td>NJ-SDISO-30581</td>\n",
       "      <td>Roger Gomez</td>\n",
       "      <td>Lowell</td>\n",
       "      <td>Massachusetts</td>\n",
       "    </tr>\n",
       "  </tbody>\n",
       "</table>\n",
       "</div>"
      ],
      "text/plain": [
       "         Order ID     Unique ID_x     Customer_x   City_x  Quantity  Price  \\\n",
       "0  WA-2016-117590  NJ-TEXWY-11752   Judy Sanchez  Seattle         7  53.35   \n",
       "1  WA-2015-117415  NJ-QDWAV-21173  Harold Hunter  Seattle         4  12.42   \n",
       "2  MA-2017-120999  WA-JJEKO-18817      Lori Shaw   Lowell         7  16.32   \n",
       "3  NJ-2016-101343  NJ-MJQGV-20387   Sandra Hicks     Troy         1  53.35   \n",
       "4  MA-2017-139619  NJ-SDISO-30581    Roger Gomez   Lowell         7  16.32   \n",
       "\n",
       "   Total Sale Amount      Invoice ID     Unique ID_y     Customer_y   City_y  \\\n",
       "0             373.45  WA-2016-117590  NJ-TEXWY-11752   Judy Sanchez  Seattle   \n",
       "1              49.68  WA-2015-117415  NJ-QDWAV-21173  Harold Hunter  Seattle   \n",
       "2             114.24  MA-2017-120999  WA-JJEKO-18817      Lori Shaw   Lowell   \n",
       "3              53.35  NJ-2016-101343  NJ-MJQGV-20387   Sandra Hicks     Troy   \n",
       "4             114.24  MA-2017-139619  NJ-SDISO-30581    Roger Gomez   Lowell   \n",
       "\n",
       "           State  \n",
       "0     Washington  \n",
       "1     Washington  \n",
       "2  Massachusetts  \n",
       "3       New York  \n",
       "4  Massachusetts  "
      ]
     },
     "execution_count": 29,
     "metadata": {},
     "output_type": "execute_result"
    }
   ],
   "source": [
    "inner_join.head()"
   ]
  },
  {
   "cell_type": "code",
   "execution_count": 30,
   "metadata": {},
   "outputs": [],
   "source": [
    "inner_join = pd.merge(order,returns,left_on = [\"Order ID\",\"City\"], right_on=[\"Invoice ID\",\"City\"])"
   ]
  },
  {
   "cell_type": "code",
   "execution_count": 31,
   "metadata": {},
   "outputs": [
    {
     "data": {
      "text/plain": [
       "(89, 11)"
      ]
     },
     "execution_count": 31,
     "metadata": {},
     "output_type": "execute_result"
    }
   ],
   "source": [
    "inner_join.shape"
   ]
  },
  {
   "cell_type": "code",
   "execution_count": 32,
   "metadata": {},
   "outputs": [],
   "source": [
    "inner_join = pd.merge(order,returns,left_on = [\"Order ID\",\"City\"], \n",
    "                      right_on=[\"Invoice ID\",\"City\"], indicator=True)"
   ]
  },
  {
   "cell_type": "code",
   "execution_count": 33,
   "metadata": {},
   "outputs": [
    {
     "data": {
      "text/html": [
       "<div>\n",
       "<style scoped>\n",
       "    .dataframe tbody tr th:only-of-type {\n",
       "        vertical-align: middle;\n",
       "    }\n",
       "\n",
       "    .dataframe tbody tr th {\n",
       "        vertical-align: top;\n",
       "    }\n",
       "\n",
       "    .dataframe thead th {\n",
       "        text-align: right;\n",
       "    }\n",
       "</style>\n",
       "<table border=\"1\" class=\"dataframe\">\n",
       "  <thead>\n",
       "    <tr style=\"text-align: right;\">\n",
       "      <th></th>\n",
       "      <th>Order ID</th>\n",
       "      <th>Unique ID_x</th>\n",
       "      <th>Customer_x</th>\n",
       "      <th>City</th>\n",
       "      <th>Quantity</th>\n",
       "      <th>Price</th>\n",
       "      <th>Total Sale Amount</th>\n",
       "      <th>Invoice ID</th>\n",
       "      <th>Unique ID_y</th>\n",
       "      <th>Customer_y</th>\n",
       "      <th>State</th>\n",
       "      <th>_merge</th>\n",
       "    </tr>\n",
       "  </thead>\n",
       "  <tbody>\n",
       "    <tr>\n",
       "      <th>0</th>\n",
       "      <td>WA-2016-117590</td>\n",
       "      <td>NJ-TEXWY-11752</td>\n",
       "      <td>Judy Sanchez</td>\n",
       "      <td>Seattle</td>\n",
       "      <td>7</td>\n",
       "      <td>53.35</td>\n",
       "      <td>373.45</td>\n",
       "      <td>WA-2016-117590</td>\n",
       "      <td>NJ-TEXWY-11752</td>\n",
       "      <td>Judy Sanchez</td>\n",
       "      <td>Washington</td>\n",
       "      <td>both</td>\n",
       "    </tr>\n",
       "    <tr>\n",
       "      <th>1</th>\n",
       "      <td>WA-2015-117415</td>\n",
       "      <td>NJ-QDWAV-21173</td>\n",
       "      <td>Harold Hunter</td>\n",
       "      <td>Seattle</td>\n",
       "      <td>4</td>\n",
       "      <td>12.42</td>\n",
       "      <td>49.68</td>\n",
       "      <td>WA-2015-117415</td>\n",
       "      <td>NJ-QDWAV-21173</td>\n",
       "      <td>Harold Hunter</td>\n",
       "      <td>Washington</td>\n",
       "      <td>both</td>\n",
       "    </tr>\n",
       "    <tr>\n",
       "      <th>2</th>\n",
       "      <td>MA-2017-120999</td>\n",
       "      <td>WA-JJEKO-18817</td>\n",
       "      <td>Lori Shaw</td>\n",
       "      <td>Lowell</td>\n",
       "      <td>7</td>\n",
       "      <td>16.32</td>\n",
       "      <td>114.24</td>\n",
       "      <td>MA-2017-120999</td>\n",
       "      <td>WA-JJEKO-18817</td>\n",
       "      <td>Lori Shaw</td>\n",
       "      <td>Massachusetts</td>\n",
       "      <td>both</td>\n",
       "    </tr>\n",
       "    <tr>\n",
       "      <th>3</th>\n",
       "      <td>NJ-2016-101343</td>\n",
       "      <td>NJ-MJQGV-20387</td>\n",
       "      <td>Sandra Hicks</td>\n",
       "      <td>Troy</td>\n",
       "      <td>1</td>\n",
       "      <td>53.35</td>\n",
       "      <td>53.35</td>\n",
       "      <td>NJ-2016-101343</td>\n",
       "      <td>NJ-MJQGV-20387</td>\n",
       "      <td>Sandra Hicks</td>\n",
       "      <td>New York</td>\n",
       "      <td>both</td>\n",
       "    </tr>\n",
       "    <tr>\n",
       "      <th>4</th>\n",
       "      <td>MA-2017-139619</td>\n",
       "      <td>NJ-SDISO-30581</td>\n",
       "      <td>Roger Gomez</td>\n",
       "      <td>Lowell</td>\n",
       "      <td>7</td>\n",
       "      <td>16.32</td>\n",
       "      <td>114.24</td>\n",
       "      <td>MA-2017-139619</td>\n",
       "      <td>NJ-SDISO-30581</td>\n",
       "      <td>Roger Gomez</td>\n",
       "      <td>Massachusetts</td>\n",
       "      <td>both</td>\n",
       "    </tr>\n",
       "  </tbody>\n",
       "</table>\n",
       "</div>"
      ],
      "text/plain": [
       "         Order ID     Unique ID_x     Customer_x     City  Quantity  Price  \\\n",
       "0  WA-2016-117590  NJ-TEXWY-11752   Judy Sanchez  Seattle         7  53.35   \n",
       "1  WA-2015-117415  NJ-QDWAV-21173  Harold Hunter  Seattle         4  12.42   \n",
       "2  MA-2017-120999  WA-JJEKO-18817      Lori Shaw   Lowell         7  16.32   \n",
       "3  NJ-2016-101343  NJ-MJQGV-20387   Sandra Hicks     Troy         1  53.35   \n",
       "4  MA-2017-139619  NJ-SDISO-30581    Roger Gomez   Lowell         7  16.32   \n",
       "\n",
       "   Total Sale Amount      Invoice ID     Unique ID_y     Customer_y  \\\n",
       "0             373.45  WA-2016-117590  NJ-TEXWY-11752   Judy Sanchez   \n",
       "1              49.68  WA-2015-117415  NJ-QDWAV-21173  Harold Hunter   \n",
       "2             114.24  MA-2017-120999  WA-JJEKO-18817      Lori Shaw   \n",
       "3              53.35  NJ-2016-101343  NJ-MJQGV-20387   Sandra Hicks   \n",
       "4             114.24  MA-2017-139619  NJ-SDISO-30581    Roger Gomez   \n",
       "\n",
       "           State _merge  \n",
       "0     Washington   both  \n",
       "1     Washington   both  \n",
       "2  Massachusetts   both  \n",
       "3       New York   both  \n",
       "4  Massachusetts   both  "
      ]
     },
     "execution_count": 33,
     "metadata": {},
     "output_type": "execute_result"
    }
   ],
   "source": [
    "inner_join.head()"
   ]
  },
  {
   "cell_type": "code",
   "execution_count": 34,
   "metadata": {},
   "outputs": [
    {
     "data": {
      "text/plain": [
       "both          89\n",
       "left_only      0\n",
       "right_only     0\n",
       "Name: _merge, dtype: int64"
      ]
     },
     "execution_count": 34,
     "metadata": {},
     "output_type": "execute_result"
    }
   ],
   "source": [
    "inner_join._merge.value_counts()"
   ]
  },
  {
   "cell_type": "markdown",
   "metadata": {},
   "source": [
    "### Left Join:"
   ]
  },
  {
   "cell_type": "code",
   "execution_count": 35,
   "metadata": {},
   "outputs": [],
   "source": [
    "returns.rename(columns = {\"Invoice ID\":\"Order ID\"},inplace=True)"
   ]
  },
  {
   "cell_type": "code",
   "execution_count": 36,
   "metadata": {},
   "outputs": [],
   "source": [
    "leftJoin = pd.merge(left=order, right = returns, on = \"Order ID\",how = \"left\", indicator=True)"
   ]
  },
  {
   "cell_type": "code",
   "execution_count": 37,
   "metadata": {},
   "outputs": [
    {
     "data": {
      "text/plain": [
       "(5000, 7)"
      ]
     },
     "execution_count": 37,
     "metadata": {},
     "output_type": "execute_result"
    }
   ],
   "source": [
    "order.shape"
   ]
  },
  {
   "cell_type": "code",
   "execution_count": 38,
   "metadata": {},
   "outputs": [
    {
     "data": {
      "text/plain": [
       "(2000, 5)"
      ]
     },
     "execution_count": 38,
     "metadata": {},
     "output_type": "execute_result"
    }
   ],
   "source": [
    "returns.shape"
   ]
  },
  {
   "cell_type": "code",
   "execution_count": 39,
   "metadata": {},
   "outputs": [
    {
     "data": {
      "text/plain": [
       "(5000, 12)"
      ]
     },
     "execution_count": 39,
     "metadata": {},
     "output_type": "execute_result"
    }
   ],
   "source": [
    "leftJoin.shape"
   ]
  },
  {
   "cell_type": "code",
   "execution_count": 40,
   "metadata": {},
   "outputs": [
    {
     "data": {
      "text/plain": [
       "left_only     4911\n",
       "both            89\n",
       "right_only       0\n",
       "Name: _merge, dtype: int64"
      ]
     },
     "execution_count": 40,
     "metadata": {},
     "output_type": "execute_result"
    }
   ],
   "source": [
    "leftJoin._merge.value_counts()"
   ]
  },
  {
   "cell_type": "code",
   "execution_count": 41,
   "metadata": {},
   "outputs": [],
   "source": [
    "# Right Join:"
   ]
  },
  {
   "cell_type": "code",
   "execution_count": 42,
   "metadata": {},
   "outputs": [],
   "source": [
    "rightjoin = pd.merge(order,returns, on = \"Order ID\", how = \"right\", indicator=True)"
   ]
  },
  {
   "cell_type": "code",
   "execution_count": 44,
   "metadata": {},
   "outputs": [
    {
     "data": {
      "text/plain": [
       "right_only    1911\n",
       "both            89\n",
       "left_only        0\n",
       "Name: _merge, dtype: int64"
      ]
     },
     "execution_count": 44,
     "metadata": {},
     "output_type": "execute_result"
    }
   ],
   "source": [
    "rightjoin._merge.value_counts()"
   ]
  },
  {
   "cell_type": "code",
   "execution_count": 45,
   "metadata": {},
   "outputs": [
    {
     "data": {
      "text/plain": [
       "(2000, 5)"
      ]
     },
     "execution_count": 45,
     "metadata": {},
     "output_type": "execute_result"
    }
   ],
   "source": [
    "returns.shape"
   ]
  },
  {
   "cell_type": "code",
   "execution_count": 46,
   "metadata": {},
   "outputs": [],
   "source": [
    "# Full Join:"
   ]
  },
  {
   "cell_type": "code",
   "execution_count": 47,
   "metadata": {},
   "outputs": [],
   "source": [
    "# Full Join --> (A + B) - (A intersection B)"
   ]
  },
  {
   "cell_type": "code",
   "execution_count": 48,
   "metadata": {},
   "outputs": [],
   "source": [
    "fulljoin = pd.merge(order,returns, on = \"Order ID\", how = \"outer\",indicator=True)"
   ]
  },
  {
   "cell_type": "code",
   "execution_count": 49,
   "metadata": {},
   "outputs": [
    {
     "name": "stdout",
     "output_type": "stream",
     "text": [
      "(5000, 7) (2000, 5)\n"
     ]
    }
   ],
   "source": [
    "print(order.shape,returns.shape)"
   ]
  },
  {
   "cell_type": "code",
   "execution_count": 50,
   "metadata": {},
   "outputs": [
    {
     "data": {
      "text/plain": [
       "(6911, 12)"
      ]
     },
     "execution_count": 50,
     "metadata": {},
     "output_type": "execute_result"
    }
   ],
   "source": [
    "fulljoin.shape"
   ]
  },
  {
   "cell_type": "code",
   "execution_count": 51,
   "metadata": {},
   "outputs": [
    {
     "data": {
      "text/plain": [
       "left_only     4911\n",
       "right_only    1911\n",
       "both            89\n",
       "Name: _merge, dtype: int64"
      ]
     },
     "execution_count": 51,
     "metadata": {},
     "output_type": "execute_result"
    }
   ],
   "source": [
    "fulljoin._merge.value_counts()"
   ]
  },
  {
   "cell_type": "code",
   "execution_count": 52,
   "metadata": {},
   "outputs": [
    {
     "data": {
      "text/plain": [
       "7000"
      ]
     },
     "execution_count": 52,
     "metadata": {},
     "output_type": "execute_result"
    }
   ],
   "source": [
    "5000 + 2000"
   ]
  },
  {
   "cell_type": "code",
   "execution_count": 53,
   "metadata": {},
   "outputs": [
    {
     "data": {
      "text/plain": [
       "6911"
      ]
     },
     "execution_count": 53,
     "metadata": {},
     "output_type": "execute_result"
    }
   ],
   "source": [
    "7000 - 89"
   ]
  },
  {
   "cell_type": "code",
   "execution_count": 54,
   "metadata": {},
   "outputs": [
    {
     "data": {
      "text/plain": [
       "(2000, 12)"
      ]
     },
     "execution_count": 54,
     "metadata": {},
     "output_type": "execute_result"
    }
   ],
   "source": [
    "fulljoin[fulljoin._merge.isin([\"right_only\",\"both\"])].shape"
   ]
  },
  {
   "cell_type": "code",
   "execution_count": 55,
   "metadata": {},
   "outputs": [
    {
     "data": {
      "text/plain": [
       "(5000, 12)"
      ]
     },
     "execution_count": 55,
     "metadata": {},
     "output_type": "execute_result"
    }
   ],
   "source": [
    "fulljoin[fulljoin._merge.isin([\"left_only\",\"both\"])].shape"
   ]
  },
  {
   "cell_type": "code",
   "execution_count": 56,
   "metadata": {},
   "outputs": [
    {
     "data": {
      "text/html": [
       "<div>\n",
       "<style scoped>\n",
       "    .dataframe tbody tr th:only-of-type {\n",
       "        vertical-align: middle;\n",
       "    }\n",
       "\n",
       "    .dataframe tbody tr th {\n",
       "        vertical-align: top;\n",
       "    }\n",
       "\n",
       "    .dataframe thead th {\n",
       "        text-align: right;\n",
       "    }\n",
       "</style>\n",
       "<table border=\"1\" class=\"dataframe\">\n",
       "  <thead>\n",
       "    <tr style=\"text-align: right;\">\n",
       "      <th></th>\n",
       "      <th>Order ID</th>\n",
       "      <th>Unique ID_x</th>\n",
       "      <th>Customer_x</th>\n",
       "      <th>City_x</th>\n",
       "      <th>Quantity</th>\n",
       "      <th>Price</th>\n",
       "      <th>Total Sale Amount</th>\n",
       "      <th>Unique ID_y</th>\n",
       "      <th>Customer_y</th>\n",
       "      <th>City_y</th>\n",
       "      <th>State</th>\n",
       "      <th>_merge</th>\n",
       "    </tr>\n",
       "  </thead>\n",
       "  <tbody>\n",
       "    <tr>\n",
       "      <th>0</th>\n",
       "      <td>NJ-2016-152156</td>\n",
       "      <td>NJ-2016-TT-107</td>\n",
       "      <td>Raymond Young</td>\n",
       "      <td>Troy</td>\n",
       "      <td>6.0</td>\n",
       "      <td>12.42</td>\n",
       "      <td>74.52</td>\n",
       "      <td>NaN</td>\n",
       "      <td>NaN</td>\n",
       "      <td>NaN</td>\n",
       "      <td>NaN</td>\n",
       "      <td>left_only</td>\n",
       "    </tr>\n",
       "    <tr>\n",
       "      <th>1</th>\n",
       "      <td>NJ-2016-138688</td>\n",
       "      <td>NJ-2016-PC-944</td>\n",
       "      <td>Helen Dean</td>\n",
       "      <td>Westfield</td>\n",
       "      <td>7.0</td>\n",
       "      <td>12.42</td>\n",
       "      <td>86.94</td>\n",
       "      <td>NaN</td>\n",
       "      <td>NaN</td>\n",
       "      <td>NaN</td>\n",
       "      <td>NaN</td>\n",
       "      <td>left_only</td>\n",
       "    </tr>\n",
       "    <tr>\n",
       "      <th>2</th>\n",
       "      <td>WA-2015-108966</td>\n",
       "      <td>WA-2015-TQ-107</td>\n",
       "      <td>Shirley Chavez</td>\n",
       "      <td>Seattle</td>\n",
       "      <td>2.0</td>\n",
       "      <td>16.32</td>\n",
       "      <td>32.64</td>\n",
       "      <td>NaN</td>\n",
       "      <td>NaN</td>\n",
       "      <td>NaN</td>\n",
       "      <td>NaN</td>\n",
       "      <td>left_only</td>\n",
       "    </tr>\n",
       "    <tr>\n",
       "      <th>3</th>\n",
       "      <td>NJ-2014-115812</td>\n",
       "      <td>NJ-2014-ZI-111</td>\n",
       "      <td>Brian Ryan</td>\n",
       "      <td>Westfield</td>\n",
       "      <td>1.0</td>\n",
       "      <td>12.42</td>\n",
       "      <td>12.42</td>\n",
       "      <td>NaN</td>\n",
       "      <td>NaN</td>\n",
       "      <td>NaN</td>\n",
       "      <td>NaN</td>\n",
       "      <td>left_only</td>\n",
       "    </tr>\n",
       "    <tr>\n",
       "      <th>4</th>\n",
       "      <td>NJ-2017-114412</td>\n",
       "      <td>NJ-2017-JR-537</td>\n",
       "      <td>Benjamin Willis</td>\n",
       "      <td>Westfield</td>\n",
       "      <td>3.0</td>\n",
       "      <td>17.83</td>\n",
       "      <td>53.49</td>\n",
       "      <td>NaN</td>\n",
       "      <td>NaN</td>\n",
       "      <td>NaN</td>\n",
       "      <td>NaN</td>\n",
       "      <td>left_only</td>\n",
       "    </tr>\n",
       "  </tbody>\n",
       "</table>\n",
       "</div>"
      ],
      "text/plain": [
       "         Order ID     Unique ID_x       Customer_x     City_x  Quantity  \\\n",
       "0  NJ-2016-152156  NJ-2016-TT-107    Raymond Young       Troy       6.0   \n",
       "1  NJ-2016-138688  NJ-2016-PC-944       Helen Dean  Westfield       7.0   \n",
       "2  WA-2015-108966  WA-2015-TQ-107   Shirley Chavez    Seattle       2.0   \n",
       "3  NJ-2014-115812  NJ-2014-ZI-111       Brian Ryan  Westfield       1.0   \n",
       "4  NJ-2017-114412  NJ-2017-JR-537  Benjamin Willis  Westfield       3.0   \n",
       "\n",
       "   Price  Total Sale Amount Unique ID_y Customer_y City_y State     _merge  \n",
       "0  12.42              74.52         NaN        NaN    NaN   NaN  left_only  \n",
       "1  12.42              86.94         NaN        NaN    NaN   NaN  left_only  \n",
       "2  16.32              32.64         NaN        NaN    NaN   NaN  left_only  \n",
       "3  12.42              12.42         NaN        NaN    NaN   NaN  left_only  \n",
       "4  17.83              53.49         NaN        NaN    NaN   NaN  left_only  "
      ]
     },
     "execution_count": 56,
     "metadata": {},
     "output_type": "execute_result"
    }
   ],
   "source": [
    "fulljoin[fulljoin._merge.isin([\"left_only\",\"both\"])].head()"
   ]
  },
  {
   "cell_type": "code",
   "execution_count": 57,
   "metadata": {},
   "outputs": [
    {
     "data": {
      "text/html": [
       "<div>\n",
       "<style scoped>\n",
       "    .dataframe tbody tr th:only-of-type {\n",
       "        vertical-align: middle;\n",
       "    }\n",
       "\n",
       "    .dataframe tbody tr th {\n",
       "        vertical-align: top;\n",
       "    }\n",
       "\n",
       "    .dataframe thead th {\n",
       "        text-align: right;\n",
       "    }\n",
       "</style>\n",
       "<table border=\"1\" class=\"dataframe\">\n",
       "  <thead>\n",
       "    <tr style=\"text-align: right;\">\n",
       "      <th></th>\n",
       "      <th>Order ID</th>\n",
       "      <th>Unique ID_x</th>\n",
       "      <th>Customer_x</th>\n",
       "      <th>City_x</th>\n",
       "      <th>Quantity</th>\n",
       "      <th>Price</th>\n",
       "      <th>Total Sale Amount</th>\n",
       "      <th>Unique ID_y</th>\n",
       "      <th>Customer_y</th>\n",
       "      <th>City_y</th>\n",
       "      <th>State</th>\n",
       "      <th>_merge</th>\n",
       "    </tr>\n",
       "  </thead>\n",
       "  <tbody>\n",
       "    <tr>\n",
       "      <th>16</th>\n",
       "      <td>WA-2016-117590</td>\n",
       "      <td>NJ-TEXWY-11752</td>\n",
       "      <td>Judy Sanchez</td>\n",
       "      <td>Seattle</td>\n",
       "      <td>7.0</td>\n",
       "      <td>53.35</td>\n",
       "      <td>373.45</td>\n",
       "      <td>NJ-TEXWY-11752</td>\n",
       "      <td>Judy Sanchez</td>\n",
       "      <td>Seattle</td>\n",
       "      <td>Washington</td>\n",
       "      <td>both</td>\n",
       "    </tr>\n",
       "    <tr>\n",
       "      <th>17</th>\n",
       "      <td>WA-2015-117415</td>\n",
       "      <td>NJ-QDWAV-21173</td>\n",
       "      <td>Harold Hunter</td>\n",
       "      <td>Seattle</td>\n",
       "      <td>4.0</td>\n",
       "      <td>12.42</td>\n",
       "      <td>49.68</td>\n",
       "      <td>NJ-QDWAV-21173</td>\n",
       "      <td>Harold Hunter</td>\n",
       "      <td>Seattle</td>\n",
       "      <td>Washington</td>\n",
       "      <td>both</td>\n",
       "    </tr>\n",
       "    <tr>\n",
       "      <th>18</th>\n",
       "      <td>MA-2017-120999</td>\n",
       "      <td>WA-JJEKO-18817</td>\n",
       "      <td>Lori Shaw</td>\n",
       "      <td>Lowell</td>\n",
       "      <td>7.0</td>\n",
       "      <td>16.32</td>\n",
       "      <td>114.24</td>\n",
       "      <td>WA-JJEKO-18817</td>\n",
       "      <td>Lori Shaw</td>\n",
       "      <td>Lowell</td>\n",
       "      <td>Massachusetts</td>\n",
       "      <td>both</td>\n",
       "    </tr>\n",
       "    <tr>\n",
       "      <th>19</th>\n",
       "      <td>NJ-2016-101343</td>\n",
       "      <td>NJ-MJQGV-20387</td>\n",
       "      <td>Sandra Hicks</td>\n",
       "      <td>Troy</td>\n",
       "      <td>1.0</td>\n",
       "      <td>53.35</td>\n",
       "      <td>53.35</td>\n",
       "      <td>NJ-MJQGV-20387</td>\n",
       "      <td>Sandra Hicks</td>\n",
       "      <td>Troy</td>\n",
       "      <td>New York</td>\n",
       "      <td>both</td>\n",
       "    </tr>\n",
       "    <tr>\n",
       "      <th>20</th>\n",
       "      <td>MA-2017-139619</td>\n",
       "      <td>NJ-SDISO-30581</td>\n",
       "      <td>Roger Gomez</td>\n",
       "      <td>Lowell</td>\n",
       "      <td>7.0</td>\n",
       "      <td>16.32</td>\n",
       "      <td>114.24</td>\n",
       "      <td>NJ-SDISO-30581</td>\n",
       "      <td>Roger Gomez</td>\n",
       "      <td>Lowell</td>\n",
       "      <td>Massachusetts</td>\n",
       "      <td>both</td>\n",
       "    </tr>\n",
       "  </tbody>\n",
       "</table>\n",
       "</div>"
      ],
      "text/plain": [
       "          Order ID     Unique ID_x     Customer_x   City_x  Quantity  Price  \\\n",
       "16  WA-2016-117590  NJ-TEXWY-11752   Judy Sanchez  Seattle       7.0  53.35   \n",
       "17  WA-2015-117415  NJ-QDWAV-21173  Harold Hunter  Seattle       4.0  12.42   \n",
       "18  MA-2017-120999  WA-JJEKO-18817      Lori Shaw   Lowell       7.0  16.32   \n",
       "19  NJ-2016-101343  NJ-MJQGV-20387   Sandra Hicks     Troy       1.0  53.35   \n",
       "20  MA-2017-139619  NJ-SDISO-30581    Roger Gomez   Lowell       7.0  16.32   \n",
       "\n",
       "    Total Sale Amount     Unique ID_y     Customer_y   City_y          State  \\\n",
       "16             373.45  NJ-TEXWY-11752   Judy Sanchez  Seattle     Washington   \n",
       "17              49.68  NJ-QDWAV-21173  Harold Hunter  Seattle     Washington   \n",
       "18             114.24  WA-JJEKO-18817      Lori Shaw   Lowell  Massachusetts   \n",
       "19              53.35  NJ-MJQGV-20387   Sandra Hicks     Troy       New York   \n",
       "20             114.24  NJ-SDISO-30581    Roger Gomez   Lowell  Massachusetts   \n",
       "\n",
       "   _merge  \n",
       "16   both  \n",
       "17   both  \n",
       "18   both  \n",
       "19   both  \n",
       "20   both  "
      ]
     },
     "execution_count": 57,
     "metadata": {},
     "output_type": "execute_result"
    }
   ],
   "source": [
    "fulljoin[fulljoin._merge.isin([\"both\"])].head()"
   ]
  },
  {
   "cell_type": "code",
   "execution_count": 58,
   "metadata": {},
   "outputs": [
    {
     "data": {
      "text/plain": [
       "(89, 12)"
      ]
     },
     "execution_count": 58,
     "metadata": {},
     "output_type": "execute_result"
    }
   ],
   "source": [
    "fulljoin[fulljoin._merge.isin([\"both\"])].shape"
   ]
  },
  {
   "cell_type": "code",
   "execution_count": 59,
   "metadata": {},
   "outputs": [],
   "source": [
    "# Cross Join"
   ]
  },
  {
   "cell_type": "code",
   "execution_count": 60,
   "metadata": {},
   "outputs": [],
   "source": [
    "crossjoin = pd.merge(order[:5], returns[:5], how = \"cross\", indicator=True)"
   ]
  },
  {
   "cell_type": "code",
   "execution_count": 61,
   "metadata": {},
   "outputs": [
    {
     "data": {
      "text/plain": [
       "(25, 13)"
      ]
     },
     "execution_count": 61,
     "metadata": {},
     "output_type": "execute_result"
    }
   ],
   "source": [
    "crossjoin.shape"
   ]
  },
  {
   "cell_type": "code",
   "execution_count": 62,
   "metadata": {},
   "outputs": [
    {
     "ename": "MergeError",
     "evalue": "Can not pass on, right_on, left_on or set right_index=True or left_index=True",
     "output_type": "error",
     "traceback": [
      "\u001b[1;31m---------------------------------------------------------------------------\u001b[0m",
      "\u001b[1;31mMergeError\u001b[0m                                Traceback (most recent call last)",
      "\u001b[1;32m<ipython-input-62-804d56bd95ee>\u001b[0m in \u001b[0;36m<module>\u001b[1;34m\u001b[0m\n\u001b[1;32m----> 1\u001b[1;33m \u001b[0mpd\u001b[0m\u001b[1;33m.\u001b[0m\u001b[0mmerge\u001b[0m\u001b[1;33m(\u001b[0m\u001b[0morder\u001b[0m\u001b[1;33m[\u001b[0m\u001b[1;33m:\u001b[0m\u001b[1;36m5\u001b[0m\u001b[1;33m]\u001b[0m\u001b[1;33m,\u001b[0m \u001b[0mreturns\u001b[0m\u001b[1;33m[\u001b[0m\u001b[1;33m:\u001b[0m\u001b[1;36m5\u001b[0m\u001b[1;33m]\u001b[0m\u001b[1;33m,\u001b[0m \u001b[0mon\u001b[0m \u001b[1;33m=\u001b[0m \u001b[1;34m\"Order ID\"\u001b[0m\u001b[1;33m,\u001b[0m \u001b[0mhow\u001b[0m \u001b[1;33m=\u001b[0m \u001b[1;34m\"cross\"\u001b[0m\u001b[1;33m,\u001b[0m \u001b[0mindicator\u001b[0m\u001b[1;33m=\u001b[0m\u001b[1;32mTrue\u001b[0m\u001b[1;33m)\u001b[0m\u001b[1;33m\u001b[0m\u001b[1;33m\u001b[0m\u001b[0m\n\u001b[0m",
      "\u001b[1;32m~\\anaconda3\\lib\\site-packages\\pandas\\core\\reshape\\merge.py\u001b[0m in \u001b[0;36mmerge\u001b[1;34m(left, right, how, on, left_on, right_on, left_index, right_index, sort, suffixes, copy, indicator, validate)\u001b[0m\n\u001b[0;32m     72\u001b[0m     \u001b[0mvalidate\u001b[0m\u001b[1;33m=\u001b[0m\u001b[1;32mNone\u001b[0m\u001b[1;33m,\u001b[0m\u001b[1;33m\u001b[0m\u001b[1;33m\u001b[0m\u001b[0m\n\u001b[0;32m     73\u001b[0m ) -> \"DataFrame\":\n\u001b[1;32m---> 74\u001b[1;33m     op = _MergeOperation(\n\u001b[0m\u001b[0;32m     75\u001b[0m         \u001b[0mleft\u001b[0m\u001b[1;33m,\u001b[0m\u001b[1;33m\u001b[0m\u001b[1;33m\u001b[0m\u001b[0m\n\u001b[0;32m     76\u001b[0m         \u001b[0mright\u001b[0m\u001b[1;33m,\u001b[0m\u001b[1;33m\u001b[0m\u001b[1;33m\u001b[0m\u001b[0m\n",
      "\u001b[1;32m~\\anaconda3\\lib\\site-packages\\pandas\\core\\reshape\\merge.py\u001b[0m in \u001b[0;36m__init__\u001b[1;34m(self, left, right, how, on, left_on, right_on, axis, left_index, right_index, sort, suffixes, copy, indicator, validate)\u001b[0m\n\u001b[0;32m    648\u001b[0m             \u001b[0mwarnings\u001b[0m\u001b[1;33m.\u001b[0m\u001b[0mwarn\u001b[0m\u001b[1;33m(\u001b[0m\u001b[0mmsg\u001b[0m\u001b[1;33m,\u001b[0m \u001b[0mUserWarning\u001b[0m\u001b[1;33m)\u001b[0m\u001b[1;33m\u001b[0m\u001b[1;33m\u001b[0m\u001b[0m\n\u001b[0;32m    649\u001b[0m \u001b[1;33m\u001b[0m\u001b[0m\n\u001b[1;32m--> 650\u001b[1;33m         \u001b[0mself\u001b[0m\u001b[1;33m.\u001b[0m\u001b[0m_validate_specification\u001b[0m\u001b[1;33m(\u001b[0m\u001b[1;33m)\u001b[0m\u001b[1;33m\u001b[0m\u001b[1;33m\u001b[0m\u001b[0m\n\u001b[0m\u001b[0;32m    651\u001b[0m \u001b[1;33m\u001b[0m\u001b[0m\n\u001b[0;32m    652\u001b[0m         \u001b[0mcross_col\u001b[0m \u001b[1;33m=\u001b[0m \u001b[1;32mNone\u001b[0m\u001b[1;33m\u001b[0m\u001b[1;33m\u001b[0m\u001b[0m\n",
      "\u001b[1;32m~\\anaconda3\\lib\\site-packages\\pandas\\core\\reshape\\merge.py\u001b[0m in \u001b[0;36m_validate_specification\u001b[1;34m(self)\u001b[0m\n\u001b[0;32m   1261\u001b[0m                 \u001b[1;32mor\u001b[0m \u001b[0mself\u001b[0m\u001b[1;33m.\u001b[0m\u001b[0mon\u001b[0m \u001b[1;32mis\u001b[0m \u001b[1;32mnot\u001b[0m \u001b[1;32mNone\u001b[0m\u001b[1;33m\u001b[0m\u001b[1;33m\u001b[0m\u001b[0m\n\u001b[0;32m   1262\u001b[0m             ):\n\u001b[1;32m-> 1263\u001b[1;33m                 raise MergeError(\n\u001b[0m\u001b[0;32m   1264\u001b[0m                     \u001b[1;34m\"Can not pass on, right_on, left_on or set right_index=True or \"\u001b[0m\u001b[1;33m\u001b[0m\u001b[1;33m\u001b[0m\u001b[0m\n\u001b[0;32m   1265\u001b[0m                     \u001b[1;34m\"left_index=True\"\u001b[0m\u001b[1;33m\u001b[0m\u001b[1;33m\u001b[0m\u001b[0m\n",
      "\u001b[1;31mMergeError\u001b[0m: Can not pass on, right_on, left_on or set right_index=True or left_index=True"
     ]
    }
   ],
   "source": [
    "pd.merge(order[:5], returns[:5], on = \"Order ID\", how = \"cross\", indicator=True)"
   ]
  },
  {
   "cell_type": "code",
   "execution_count": 63,
   "metadata": {},
   "outputs": [
    {
     "data": {
      "text/plain": [
       "both          25\n",
       "left_only      0\n",
       "right_only     0\n",
       "Name: _merge, dtype: int64"
      ]
     },
     "execution_count": 63,
     "metadata": {},
     "output_type": "execute_result"
    }
   ],
   "source": [
    "crossjoin._merge.value_counts()"
   ]
  },
  {
   "cell_type": "code",
   "execution_count": 65,
   "metadata": {},
   "outputs": [],
   "source": [
    "df1 = pd.DataFrame({\"left\":[\"A\",\"B\"]})\n",
    "df2 = pd.DataFrame({\"right\":[5,8]})"
   ]
  },
  {
   "cell_type": "code",
   "execution_count": 66,
   "metadata": {},
   "outputs": [
    {
     "data": {
      "text/html": [
       "<div>\n",
       "<style scoped>\n",
       "    .dataframe tbody tr th:only-of-type {\n",
       "        vertical-align: middle;\n",
       "    }\n",
       "\n",
       "    .dataframe tbody tr th {\n",
       "        vertical-align: top;\n",
       "    }\n",
       "\n",
       "    .dataframe thead th {\n",
       "        text-align: right;\n",
       "    }\n",
       "</style>\n",
       "<table border=\"1\" class=\"dataframe\">\n",
       "  <thead>\n",
       "    <tr style=\"text-align: right;\">\n",
       "      <th></th>\n",
       "      <th>left</th>\n",
       "    </tr>\n",
       "  </thead>\n",
       "  <tbody>\n",
       "    <tr>\n",
       "      <th>0</th>\n",
       "      <td>A</td>\n",
       "    </tr>\n",
       "    <tr>\n",
       "      <th>1</th>\n",
       "      <td>B</td>\n",
       "    </tr>\n",
       "  </tbody>\n",
       "</table>\n",
       "</div>"
      ],
      "text/plain": [
       "  left\n",
       "0    A\n",
       "1    B"
      ]
     },
     "execution_count": 66,
     "metadata": {},
     "output_type": "execute_result"
    }
   ],
   "source": [
    "df1"
   ]
  },
  {
   "cell_type": "code",
   "execution_count": 67,
   "metadata": {},
   "outputs": [
    {
     "data": {
      "text/html": [
       "<div>\n",
       "<style scoped>\n",
       "    .dataframe tbody tr th:only-of-type {\n",
       "        vertical-align: middle;\n",
       "    }\n",
       "\n",
       "    .dataframe tbody tr th {\n",
       "        vertical-align: top;\n",
       "    }\n",
       "\n",
       "    .dataframe thead th {\n",
       "        text-align: right;\n",
       "    }\n",
       "</style>\n",
       "<table border=\"1\" class=\"dataframe\">\n",
       "  <thead>\n",
       "    <tr style=\"text-align: right;\">\n",
       "      <th></th>\n",
       "      <th>right</th>\n",
       "    </tr>\n",
       "  </thead>\n",
       "  <tbody>\n",
       "    <tr>\n",
       "      <th>0</th>\n",
       "      <td>5</td>\n",
       "    </tr>\n",
       "    <tr>\n",
       "      <th>1</th>\n",
       "      <td>8</td>\n",
       "    </tr>\n",
       "  </tbody>\n",
       "</table>\n",
       "</div>"
      ],
      "text/plain": [
       "   right\n",
       "0      5\n",
       "1      8"
      ]
     },
     "execution_count": 67,
     "metadata": {},
     "output_type": "execute_result"
    }
   ],
   "source": [
    "df2"
   ]
  },
  {
   "cell_type": "code",
   "execution_count": 68,
   "metadata": {},
   "outputs": [
    {
     "data": {
      "text/html": [
       "<div>\n",
       "<style scoped>\n",
       "    .dataframe tbody tr th:only-of-type {\n",
       "        vertical-align: middle;\n",
       "    }\n",
       "\n",
       "    .dataframe tbody tr th {\n",
       "        vertical-align: top;\n",
       "    }\n",
       "\n",
       "    .dataframe thead th {\n",
       "        text-align: right;\n",
       "    }\n",
       "</style>\n",
       "<table border=\"1\" class=\"dataframe\">\n",
       "  <thead>\n",
       "    <tr style=\"text-align: right;\">\n",
       "      <th></th>\n",
       "      <th>left</th>\n",
       "      <th>right</th>\n",
       "    </tr>\n",
       "  </thead>\n",
       "  <tbody>\n",
       "    <tr>\n",
       "      <th>0</th>\n",
       "      <td>A</td>\n",
       "      <td>5</td>\n",
       "    </tr>\n",
       "    <tr>\n",
       "      <th>1</th>\n",
       "      <td>A</td>\n",
       "      <td>8</td>\n",
       "    </tr>\n",
       "    <tr>\n",
       "      <th>2</th>\n",
       "      <td>B</td>\n",
       "      <td>5</td>\n",
       "    </tr>\n",
       "    <tr>\n",
       "      <th>3</th>\n",
       "      <td>B</td>\n",
       "      <td>8</td>\n",
       "    </tr>\n",
       "  </tbody>\n",
       "</table>\n",
       "</div>"
      ],
      "text/plain": [
       "  left  right\n",
       "0    A      5\n",
       "1    A      8\n",
       "2    B      5\n",
       "3    B      8"
      ]
     },
     "execution_count": 68,
     "metadata": {},
     "output_type": "execute_result"
    }
   ],
   "source": [
    "pd.merge(df1, df2, how = \"cross\")"
   ]
  },
  {
   "cell_type": "code",
   "execution_count": 69,
   "metadata": {},
   "outputs": [],
   "source": [
    "emp = pd.read_clipboard()"
   ]
  },
  {
   "cell_type": "code",
   "execution_count": 70,
   "metadata": {},
   "outputs": [
    {
     "data": {
      "text/html": [
       "<div>\n",
       "<style scoped>\n",
       "    .dataframe tbody tr th:only-of-type {\n",
       "        vertical-align: middle;\n",
       "    }\n",
       "\n",
       "    .dataframe tbody tr th {\n",
       "        vertical-align: top;\n",
       "    }\n",
       "\n",
       "    .dataframe thead th {\n",
       "        text-align: right;\n",
       "    }\n",
       "</style>\n",
       "<table border=\"1\" class=\"dataframe\">\n",
       "  <thead>\n",
       "    <tr style=\"text-align: right;\">\n",
       "      <th></th>\n",
       "      <th>EmpID</th>\n",
       "      <th>Name</th>\n",
       "      <th>Age</th>\n",
       "      <th>Experience</th>\n",
       "    </tr>\n",
       "  </thead>\n",
       "  <tbody>\n",
       "    <tr>\n",
       "      <th>0</th>\n",
       "      <td>111</td>\n",
       "      <td>Amit</td>\n",
       "      <td>31</td>\n",
       "      <td>5</td>\n",
       "    </tr>\n",
       "    <tr>\n",
       "      <th>1</th>\n",
       "      <td>222</td>\n",
       "      <td>Jeena</td>\n",
       "      <td>31</td>\n",
       "      <td>2</td>\n",
       "    </tr>\n",
       "    <tr>\n",
       "      <th>2</th>\n",
       "      <td>333</td>\n",
       "      <td>John</td>\n",
       "      <td>36</td>\n",
       "      <td>4</td>\n",
       "    </tr>\n",
       "    <tr>\n",
       "      <th>3</th>\n",
       "      <td>444</td>\n",
       "      <td>Vivek</td>\n",
       "      <td>35</td>\n",
       "      <td>9</td>\n",
       "    </tr>\n",
       "    <tr>\n",
       "      <th>4</th>\n",
       "      <td>555</td>\n",
       "      <td>Luke</td>\n",
       "      <td>40</td>\n",
       "      <td>6</td>\n",
       "    </tr>\n",
       "  </tbody>\n",
       "</table>\n",
       "</div>"
      ],
      "text/plain": [
       "   EmpID   Name  Age  Experience\n",
       "0    111   Amit   31           5\n",
       "1    222  Jeena   31           2\n",
       "2    333   John   36           4\n",
       "3    444  Vivek   35           9\n",
       "4    555   Luke   40           6"
      ]
     },
     "execution_count": 70,
     "metadata": {},
     "output_type": "execute_result"
    }
   ],
   "source": [
    "emp.head()"
   ]
  },
  {
   "cell_type": "code",
   "execution_count": 71,
   "metadata": {},
   "outputs": [],
   "source": [
    "emp.set_index(\"EmpID\",inplace=True)"
   ]
  },
  {
   "cell_type": "code",
   "execution_count": 72,
   "metadata": {},
   "outputs": [
    {
     "data": {
      "text/html": [
       "<div>\n",
       "<style scoped>\n",
       "    .dataframe tbody tr th:only-of-type {\n",
       "        vertical-align: middle;\n",
       "    }\n",
       "\n",
       "    .dataframe tbody tr th {\n",
       "        vertical-align: top;\n",
       "    }\n",
       "\n",
       "    .dataframe thead th {\n",
       "        text-align: right;\n",
       "    }\n",
       "</style>\n",
       "<table border=\"1\" class=\"dataframe\">\n",
       "  <thead>\n",
       "    <tr style=\"text-align: right;\">\n",
       "      <th></th>\n",
       "      <th>Name</th>\n",
       "      <th>Age</th>\n",
       "      <th>Experience</th>\n",
       "    </tr>\n",
       "    <tr>\n",
       "      <th>EmpID</th>\n",
       "      <th></th>\n",
       "      <th></th>\n",
       "      <th></th>\n",
       "    </tr>\n",
       "  </thead>\n",
       "  <tbody>\n",
       "    <tr>\n",
       "      <th>111</th>\n",
       "      <td>Amit</td>\n",
       "      <td>31</td>\n",
       "      <td>5</td>\n",
       "    </tr>\n",
       "    <tr>\n",
       "      <th>222</th>\n",
       "      <td>Jeena</td>\n",
       "      <td>31</td>\n",
       "      <td>2</td>\n",
       "    </tr>\n",
       "    <tr>\n",
       "      <th>333</th>\n",
       "      <td>John</td>\n",
       "      <td>36</td>\n",
       "      <td>4</td>\n",
       "    </tr>\n",
       "    <tr>\n",
       "      <th>444</th>\n",
       "      <td>Vivek</td>\n",
       "      <td>35</td>\n",
       "      <td>9</td>\n",
       "    </tr>\n",
       "    <tr>\n",
       "      <th>555</th>\n",
       "      <td>Luke</td>\n",
       "      <td>40</td>\n",
       "      <td>6</td>\n",
       "    </tr>\n",
       "  </tbody>\n",
       "</table>\n",
       "</div>"
      ],
      "text/plain": [
       "        Name  Age  Experience\n",
       "EmpID                        \n",
       "111     Amit   31           5\n",
       "222    Jeena   31           2\n",
       "333     John   36           4\n",
       "444    Vivek   35           9\n",
       "555     Luke   40           6"
      ]
     },
     "execution_count": 72,
     "metadata": {},
     "output_type": "execute_result"
    }
   ],
   "source": [
    "emp.head()"
   ]
  },
  {
   "cell_type": "code",
   "execution_count": 73,
   "metadata": {},
   "outputs": [],
   "source": [
    "salary = pd.read_clipboard()"
   ]
  },
  {
   "cell_type": "code",
   "execution_count": 74,
   "metadata": {},
   "outputs": [
    {
     "data": {
      "text/html": [
       "<div>\n",
       "<style scoped>\n",
       "    .dataframe tbody tr th:only-of-type {\n",
       "        vertical-align: middle;\n",
       "    }\n",
       "\n",
       "    .dataframe tbody tr th {\n",
       "        vertical-align: top;\n",
       "    }\n",
       "\n",
       "    .dataframe thead th {\n",
       "        text-align: right;\n",
       "    }\n",
       "</style>\n",
       "<table border=\"1\" class=\"dataframe\">\n",
       "  <thead>\n",
       "    <tr style=\"text-align: right;\">\n",
       "      <th></th>\n",
       "      <th>EmpID</th>\n",
       "      <th>Salary</th>\n",
       "      <th>Increment</th>\n",
       "    </tr>\n",
       "  </thead>\n",
       "  <tbody>\n",
       "    <tr>\n",
       "      <th>0</th>\n",
       "      <td>111</td>\n",
       "      <td>76804</td>\n",
       "      <td>8448</td>\n",
       "    </tr>\n",
       "    <tr>\n",
       "      <th>1</th>\n",
       "      <td>222</td>\n",
       "      <td>70350</td>\n",
       "      <td>8442</td>\n",
       "    </tr>\n",
       "    <tr>\n",
       "      <th>2</th>\n",
       "      <td>333</td>\n",
       "      <td>86907</td>\n",
       "      <td>9559</td>\n",
       "    </tr>\n",
       "    <tr>\n",
       "      <th>3</th>\n",
       "      <td>444</td>\n",
       "      <td>77576</td>\n",
       "      <td>7757</td>\n",
       "    </tr>\n",
       "    <tr>\n",
       "      <th>4</th>\n",
       "      <td>555</td>\n",
       "      <td>59766</td>\n",
       "      <td>5976</td>\n",
       "    </tr>\n",
       "  </tbody>\n",
       "</table>\n",
       "</div>"
      ],
      "text/plain": [
       "   EmpID  Salary  Increment\n",
       "0    111   76804       8448\n",
       "1    222   70350       8442\n",
       "2    333   86907       9559\n",
       "3    444   77576       7757\n",
       "4    555   59766       5976"
      ]
     },
     "execution_count": 74,
     "metadata": {},
     "output_type": "execute_result"
    }
   ],
   "source": [
    "salary.head()"
   ]
  },
  {
   "cell_type": "code",
   "execution_count": 75,
   "metadata": {},
   "outputs": [],
   "source": [
    "salary.set_index(\"EmpID\", inplace=True)"
   ]
  },
  {
   "cell_type": "code",
   "execution_count": 76,
   "metadata": {},
   "outputs": [
    {
     "data": {
      "text/html": [
       "<div>\n",
       "<style scoped>\n",
       "    .dataframe tbody tr th:only-of-type {\n",
       "        vertical-align: middle;\n",
       "    }\n",
       "\n",
       "    .dataframe tbody tr th {\n",
       "        vertical-align: top;\n",
       "    }\n",
       "\n",
       "    .dataframe thead th {\n",
       "        text-align: right;\n",
       "    }\n",
       "</style>\n",
       "<table border=\"1\" class=\"dataframe\">\n",
       "  <thead>\n",
       "    <tr style=\"text-align: right;\">\n",
       "      <th></th>\n",
       "      <th>Salary</th>\n",
       "      <th>Increment</th>\n",
       "    </tr>\n",
       "    <tr>\n",
       "      <th>EmpID</th>\n",
       "      <th></th>\n",
       "      <th></th>\n",
       "    </tr>\n",
       "  </thead>\n",
       "  <tbody>\n",
       "    <tr>\n",
       "      <th>111</th>\n",
       "      <td>76804</td>\n",
       "      <td>8448</td>\n",
       "    </tr>\n",
       "    <tr>\n",
       "      <th>222</th>\n",
       "      <td>70350</td>\n",
       "      <td>8442</td>\n",
       "    </tr>\n",
       "    <tr>\n",
       "      <th>333</th>\n",
       "      <td>86907</td>\n",
       "      <td>9559</td>\n",
       "    </tr>\n",
       "    <tr>\n",
       "      <th>444</th>\n",
       "      <td>77576</td>\n",
       "      <td>7757</td>\n",
       "    </tr>\n",
       "    <tr>\n",
       "      <th>555</th>\n",
       "      <td>59766</td>\n",
       "      <td>5976</td>\n",
       "    </tr>\n",
       "  </tbody>\n",
       "</table>\n",
       "</div>"
      ],
      "text/plain": [
       "       Salary  Increment\n",
       "EmpID                   \n",
       "111     76804       8448\n",
       "222     70350       8442\n",
       "333     86907       9559\n",
       "444     77576       7757\n",
       "555     59766       5976"
      ]
     },
     "execution_count": 76,
     "metadata": {},
     "output_type": "execute_result"
    }
   ],
   "source": [
    "salary.head()"
   ]
  },
  {
   "cell_type": "code",
   "execution_count": 77,
   "metadata": {},
   "outputs": [
    {
     "data": {
      "text/html": [
       "<div>\n",
       "<style scoped>\n",
       "    .dataframe tbody tr th:only-of-type {\n",
       "        vertical-align: middle;\n",
       "    }\n",
       "\n",
       "    .dataframe tbody tr th {\n",
       "        vertical-align: top;\n",
       "    }\n",
       "\n",
       "    .dataframe thead th {\n",
       "        text-align: right;\n",
       "    }\n",
       "</style>\n",
       "<table border=\"1\" class=\"dataframe\">\n",
       "  <thead>\n",
       "    <tr style=\"text-align: right;\">\n",
       "      <th></th>\n",
       "      <th>Name</th>\n",
       "      <th>Age</th>\n",
       "      <th>Experience</th>\n",
       "      <th>Salary</th>\n",
       "      <th>Increment</th>\n",
       "    </tr>\n",
       "    <tr>\n",
       "      <th>EmpID</th>\n",
       "      <th></th>\n",
       "      <th></th>\n",
       "      <th></th>\n",
       "      <th></th>\n",
       "      <th></th>\n",
       "    </tr>\n",
       "  </thead>\n",
       "  <tbody>\n",
       "    <tr>\n",
       "      <th>111</th>\n",
       "      <td>Amit</td>\n",
       "      <td>31</td>\n",
       "      <td>5</td>\n",
       "      <td>76804</td>\n",
       "      <td>8448</td>\n",
       "    </tr>\n",
       "    <tr>\n",
       "      <th>222</th>\n",
       "      <td>Jeena</td>\n",
       "      <td>31</td>\n",
       "      <td>2</td>\n",
       "      <td>70350</td>\n",
       "      <td>8442</td>\n",
       "    </tr>\n",
       "    <tr>\n",
       "      <th>333</th>\n",
       "      <td>John</td>\n",
       "      <td>36</td>\n",
       "      <td>4</td>\n",
       "      <td>86907</td>\n",
       "      <td>9559</td>\n",
       "    </tr>\n",
       "    <tr>\n",
       "      <th>444</th>\n",
       "      <td>Vivek</td>\n",
       "      <td>35</td>\n",
       "      <td>9</td>\n",
       "      <td>77576</td>\n",
       "      <td>7757</td>\n",
       "    </tr>\n",
       "    <tr>\n",
       "      <th>555</th>\n",
       "      <td>Luke</td>\n",
       "      <td>40</td>\n",
       "      <td>6</td>\n",
       "      <td>59766</td>\n",
       "      <td>5976</td>\n",
       "    </tr>\n",
       "    <tr>\n",
       "      <th>666</th>\n",
       "      <td>Harris</td>\n",
       "      <td>36</td>\n",
       "      <td>1</td>\n",
       "      <td>55001</td>\n",
       "      <td>4950</td>\n",
       "    </tr>\n",
       "    <tr>\n",
       "      <th>777</th>\n",
       "      <td>Warner</td>\n",
       "      <td>32</td>\n",
       "      <td>3</td>\n",
       "      <td>55673</td>\n",
       "      <td>5010</td>\n",
       "    </tr>\n",
       "    <tr>\n",
       "      <th>888</th>\n",
       "      <td>Dravid</td>\n",
       "      <td>34</td>\n",
       "      <td>1</td>\n",
       "      <td>54940</td>\n",
       "      <td>5494</td>\n",
       "    </tr>\n",
       "    <tr>\n",
       "      <th>999</th>\n",
       "      <td>Rahul</td>\n",
       "      <td>37</td>\n",
       "      <td>8</td>\n",
       "      <td>78865</td>\n",
       "      <td>7886</td>\n",
       "    </tr>\n",
       "  </tbody>\n",
       "</table>\n",
       "</div>"
      ],
      "text/plain": [
       "         Name  Age  Experience  Salary  Increment\n",
       "EmpID                                            \n",
       "111      Amit   31           5   76804       8448\n",
       "222     Jeena   31           2   70350       8442\n",
       "333      John   36           4   86907       9559\n",
       "444     Vivek   35           9   77576       7757\n",
       "555      Luke   40           6   59766       5976\n",
       "666    Harris   36           1   55001       4950\n",
       "777    Warner   32           3   55673       5010\n",
       "888    Dravid   34           1   54940       5494\n",
       "999     Rahul   37           8   78865       7886"
      ]
     },
     "execution_count": 77,
     "metadata": {},
     "output_type": "execute_result"
    }
   ],
   "source": [
    "pd.merge(emp, salary, left_index=True, right_index=True)"
   ]
  },
  {
   "cell_type": "code",
   "execution_count": 78,
   "metadata": {},
   "outputs": [],
   "source": [
    "salary = salary.reset_index()"
   ]
  },
  {
   "cell_type": "code",
   "execution_count": 79,
   "metadata": {},
   "outputs": [
    {
     "data": {
      "text/html": [
       "<div>\n",
       "<style scoped>\n",
       "    .dataframe tbody tr th:only-of-type {\n",
       "        vertical-align: middle;\n",
       "    }\n",
       "\n",
       "    .dataframe tbody tr th {\n",
       "        vertical-align: top;\n",
       "    }\n",
       "\n",
       "    .dataframe thead th {\n",
       "        text-align: right;\n",
       "    }\n",
       "</style>\n",
       "<table border=\"1\" class=\"dataframe\">\n",
       "  <thead>\n",
       "    <tr style=\"text-align: right;\">\n",
       "      <th></th>\n",
       "      <th>EmpID</th>\n",
       "      <th>Salary</th>\n",
       "      <th>Increment</th>\n",
       "    </tr>\n",
       "  </thead>\n",
       "  <tbody>\n",
       "    <tr>\n",
       "      <th>0</th>\n",
       "      <td>111</td>\n",
       "      <td>76804</td>\n",
       "      <td>8448</td>\n",
       "    </tr>\n",
       "    <tr>\n",
       "      <th>1</th>\n",
       "      <td>222</td>\n",
       "      <td>70350</td>\n",
       "      <td>8442</td>\n",
       "    </tr>\n",
       "    <tr>\n",
       "      <th>2</th>\n",
       "      <td>333</td>\n",
       "      <td>86907</td>\n",
       "      <td>9559</td>\n",
       "    </tr>\n",
       "    <tr>\n",
       "      <th>3</th>\n",
       "      <td>444</td>\n",
       "      <td>77576</td>\n",
       "      <td>7757</td>\n",
       "    </tr>\n",
       "    <tr>\n",
       "      <th>4</th>\n",
       "      <td>555</td>\n",
       "      <td>59766</td>\n",
       "      <td>5976</td>\n",
       "    </tr>\n",
       "  </tbody>\n",
       "</table>\n",
       "</div>"
      ],
      "text/plain": [
       "   EmpID  Salary  Increment\n",
       "0    111   76804       8448\n",
       "1    222   70350       8442\n",
       "2    333   86907       9559\n",
       "3    444   77576       7757\n",
       "4    555   59766       5976"
      ]
     },
     "execution_count": 79,
     "metadata": {},
     "output_type": "execute_result"
    }
   ],
   "source": [
    "salary.head()"
   ]
  },
  {
   "cell_type": "code",
   "execution_count": 80,
   "metadata": {},
   "outputs": [
    {
     "data": {
      "text/html": [
       "<div>\n",
       "<style scoped>\n",
       "    .dataframe tbody tr th:only-of-type {\n",
       "        vertical-align: middle;\n",
       "    }\n",
       "\n",
       "    .dataframe tbody tr th {\n",
       "        vertical-align: top;\n",
       "    }\n",
       "\n",
       "    .dataframe thead th {\n",
       "        text-align: right;\n",
       "    }\n",
       "</style>\n",
       "<table border=\"1\" class=\"dataframe\">\n",
       "  <thead>\n",
       "    <tr style=\"text-align: right;\">\n",
       "      <th></th>\n",
       "      <th>Name</th>\n",
       "      <th>Age</th>\n",
       "      <th>Experience</th>\n",
       "    </tr>\n",
       "    <tr>\n",
       "      <th>EmpID</th>\n",
       "      <th></th>\n",
       "      <th></th>\n",
       "      <th></th>\n",
       "    </tr>\n",
       "  </thead>\n",
       "  <tbody>\n",
       "    <tr>\n",
       "      <th>111</th>\n",
       "      <td>Amit</td>\n",
       "      <td>31</td>\n",
       "      <td>5</td>\n",
       "    </tr>\n",
       "    <tr>\n",
       "      <th>222</th>\n",
       "      <td>Jeena</td>\n",
       "      <td>31</td>\n",
       "      <td>2</td>\n",
       "    </tr>\n",
       "  </tbody>\n",
       "</table>\n",
       "</div>"
      ],
      "text/plain": [
       "        Name  Age  Experience\n",
       "EmpID                        \n",
       "111     Amit   31           5\n",
       "222    Jeena   31           2"
      ]
     },
     "execution_count": 80,
     "metadata": {},
     "output_type": "execute_result"
    }
   ],
   "source": [
    "emp.head(2)"
   ]
  },
  {
   "cell_type": "code",
   "execution_count": 81,
   "metadata": {},
   "outputs": [
    {
     "data": {
      "text/html": [
       "<div>\n",
       "<style scoped>\n",
       "    .dataframe tbody tr th:only-of-type {\n",
       "        vertical-align: middle;\n",
       "    }\n",
       "\n",
       "    .dataframe tbody tr th {\n",
       "        vertical-align: top;\n",
       "    }\n",
       "\n",
       "    .dataframe thead th {\n",
       "        text-align: right;\n",
       "    }\n",
       "</style>\n",
       "<table border=\"1\" class=\"dataframe\">\n",
       "  <thead>\n",
       "    <tr style=\"text-align: right;\">\n",
       "      <th></th>\n",
       "      <th>Name</th>\n",
       "      <th>Age</th>\n",
       "      <th>Experience</th>\n",
       "      <th>EmpID</th>\n",
       "      <th>Salary</th>\n",
       "      <th>Increment</th>\n",
       "    </tr>\n",
       "  </thead>\n",
       "  <tbody>\n",
       "    <tr>\n",
       "      <th>0</th>\n",
       "      <td>Amit</td>\n",
       "      <td>31</td>\n",
       "      <td>5</td>\n",
       "      <td>111</td>\n",
       "      <td>76804</td>\n",
       "      <td>8448</td>\n",
       "    </tr>\n",
       "    <tr>\n",
       "      <th>1</th>\n",
       "      <td>Jeena</td>\n",
       "      <td>31</td>\n",
       "      <td>2</td>\n",
       "      <td>222</td>\n",
       "      <td>70350</td>\n",
       "      <td>8442</td>\n",
       "    </tr>\n",
       "    <tr>\n",
       "      <th>2</th>\n",
       "      <td>John</td>\n",
       "      <td>36</td>\n",
       "      <td>4</td>\n",
       "      <td>333</td>\n",
       "      <td>86907</td>\n",
       "      <td>9559</td>\n",
       "    </tr>\n",
       "    <tr>\n",
       "      <th>3</th>\n",
       "      <td>Vivek</td>\n",
       "      <td>35</td>\n",
       "      <td>9</td>\n",
       "      <td>444</td>\n",
       "      <td>77576</td>\n",
       "      <td>7757</td>\n",
       "    </tr>\n",
       "    <tr>\n",
       "      <th>4</th>\n",
       "      <td>Luke</td>\n",
       "      <td>40</td>\n",
       "      <td>6</td>\n",
       "      <td>555</td>\n",
       "      <td>59766</td>\n",
       "      <td>5976</td>\n",
       "    </tr>\n",
       "    <tr>\n",
       "      <th>5</th>\n",
       "      <td>Harris</td>\n",
       "      <td>36</td>\n",
       "      <td>1</td>\n",
       "      <td>666</td>\n",
       "      <td>55001</td>\n",
       "      <td>4950</td>\n",
       "    </tr>\n",
       "    <tr>\n",
       "      <th>6</th>\n",
       "      <td>Warner</td>\n",
       "      <td>32</td>\n",
       "      <td>3</td>\n",
       "      <td>777</td>\n",
       "      <td>55673</td>\n",
       "      <td>5010</td>\n",
       "    </tr>\n",
       "    <tr>\n",
       "      <th>7</th>\n",
       "      <td>Dravid</td>\n",
       "      <td>34</td>\n",
       "      <td>1</td>\n",
       "      <td>888</td>\n",
       "      <td>54940</td>\n",
       "      <td>5494</td>\n",
       "    </tr>\n",
       "    <tr>\n",
       "      <th>8</th>\n",
       "      <td>Rahul</td>\n",
       "      <td>37</td>\n",
       "      <td>8</td>\n",
       "      <td>999</td>\n",
       "      <td>78865</td>\n",
       "      <td>7886</td>\n",
       "    </tr>\n",
       "  </tbody>\n",
       "</table>\n",
       "</div>"
      ],
      "text/plain": [
       "     Name  Age  Experience  EmpID  Salary  Increment\n",
       "0    Amit   31           5    111   76804       8448\n",
       "1   Jeena   31           2    222   70350       8442\n",
       "2    John   36           4    333   86907       9559\n",
       "3   Vivek   35           9    444   77576       7757\n",
       "4    Luke   40           6    555   59766       5976\n",
       "5  Harris   36           1    666   55001       4950\n",
       "6  Warner   32           3    777   55673       5010\n",
       "7  Dravid   34           1    888   54940       5494\n",
       "8   Rahul   37           8    999   78865       7886"
      ]
     },
     "execution_count": 81,
     "metadata": {},
     "output_type": "execute_result"
    }
   ],
   "source": [
    "pd.merge(emp, salary, left_index=True, right_on=\"EmpID\")"
   ]
  },
  {
   "cell_type": "code",
   "execution_count": 82,
   "metadata": {},
   "outputs": [],
   "source": [
    "city = pd.read_clipboard()"
   ]
  },
  {
   "cell_type": "code",
   "execution_count": 83,
   "metadata": {},
   "outputs": [
    {
     "data": {
      "text/html": [
       "<div>\n",
       "<style scoped>\n",
       "    .dataframe tbody tr th:only-of-type {\n",
       "        vertical-align: middle;\n",
       "    }\n",
       "\n",
       "    .dataframe tbody tr th {\n",
       "        vertical-align: top;\n",
       "    }\n",
       "\n",
       "    .dataframe thead th {\n",
       "        text-align: right;\n",
       "    }\n",
       "</style>\n",
       "<table border=\"1\" class=\"dataframe\">\n",
       "  <thead>\n",
       "    <tr style=\"text-align: right;\">\n",
       "      <th></th>\n",
       "      <th>EmpID</th>\n",
       "      <th>City</th>\n",
       "    </tr>\n",
       "  </thead>\n",
       "  <tbody>\n",
       "    <tr>\n",
       "      <th>0</th>\n",
       "      <td>111</td>\n",
       "      <td>Goa</td>\n",
       "    </tr>\n",
       "    <tr>\n",
       "      <th>1</th>\n",
       "      <td>222</td>\n",
       "      <td>New York City</td>\n",
       "    </tr>\n",
       "    <tr>\n",
       "      <th>2</th>\n",
       "      <td>333</td>\n",
       "      <td>Troy</td>\n",
       "    </tr>\n",
       "    <tr>\n",
       "      <th>3</th>\n",
       "      <td>444</td>\n",
       "      <td>Mumbai</td>\n",
       "    </tr>\n",
       "    <tr>\n",
       "      <th>4</th>\n",
       "      <td>555</td>\n",
       "      <td>Chennai</td>\n",
       "    </tr>\n",
       "  </tbody>\n",
       "</table>\n",
       "</div>"
      ],
      "text/plain": [
       "   EmpID           City\n",
       "0    111            Goa\n",
       "1    222  New York City\n",
       "2    333           Troy\n",
       "3    444         Mumbai\n",
       "4    555        Chennai"
      ]
     },
     "execution_count": 83,
     "metadata": {},
     "output_type": "execute_result"
    }
   ],
   "source": [
    "city.head()"
   ]
  },
  {
   "cell_type": "code",
   "execution_count": null,
   "metadata": {},
   "outputs": [],
   "source": [
    "A,B,C and D\n",
    "\n",
    "A to B : AB\n",
    "AB to C: ABC\n",
    "ABC to D : ABCD"
   ]
  },
  {
   "cell_type": "code",
   "execution_count": 84,
   "metadata": {},
   "outputs": [],
   "source": [
    "EmpSalary = pd.merge(emp,salary, left_index=True, right_on = \"EmpID\")"
   ]
  },
  {
   "cell_type": "code",
   "execution_count": 85,
   "metadata": {},
   "outputs": [
    {
     "data": {
      "text/html": [
       "<div>\n",
       "<style scoped>\n",
       "    .dataframe tbody tr th:only-of-type {\n",
       "        vertical-align: middle;\n",
       "    }\n",
       "\n",
       "    .dataframe tbody tr th {\n",
       "        vertical-align: top;\n",
       "    }\n",
       "\n",
       "    .dataframe thead th {\n",
       "        text-align: right;\n",
       "    }\n",
       "</style>\n",
       "<table border=\"1\" class=\"dataframe\">\n",
       "  <thead>\n",
       "    <tr style=\"text-align: right;\">\n",
       "      <th></th>\n",
       "      <th>Name</th>\n",
       "      <th>Age</th>\n",
       "      <th>Experience</th>\n",
       "      <th>EmpID</th>\n",
       "      <th>Salary</th>\n",
       "      <th>Increment</th>\n",
       "    </tr>\n",
       "  </thead>\n",
       "  <tbody>\n",
       "    <tr>\n",
       "      <th>0</th>\n",
       "      <td>Amit</td>\n",
       "      <td>31</td>\n",
       "      <td>5</td>\n",
       "      <td>111</td>\n",
       "      <td>76804</td>\n",
       "      <td>8448</td>\n",
       "    </tr>\n",
       "    <tr>\n",
       "      <th>1</th>\n",
       "      <td>Jeena</td>\n",
       "      <td>31</td>\n",
       "      <td>2</td>\n",
       "      <td>222</td>\n",
       "      <td>70350</td>\n",
       "      <td>8442</td>\n",
       "    </tr>\n",
       "    <tr>\n",
       "      <th>2</th>\n",
       "      <td>John</td>\n",
       "      <td>36</td>\n",
       "      <td>4</td>\n",
       "      <td>333</td>\n",
       "      <td>86907</td>\n",
       "      <td>9559</td>\n",
       "    </tr>\n",
       "    <tr>\n",
       "      <th>3</th>\n",
       "      <td>Vivek</td>\n",
       "      <td>35</td>\n",
       "      <td>9</td>\n",
       "      <td>444</td>\n",
       "      <td>77576</td>\n",
       "      <td>7757</td>\n",
       "    </tr>\n",
       "    <tr>\n",
       "      <th>4</th>\n",
       "      <td>Luke</td>\n",
       "      <td>40</td>\n",
       "      <td>6</td>\n",
       "      <td>555</td>\n",
       "      <td>59766</td>\n",
       "      <td>5976</td>\n",
       "    </tr>\n",
       "  </tbody>\n",
       "</table>\n",
       "</div>"
      ],
      "text/plain": [
       "    Name  Age  Experience  EmpID  Salary  Increment\n",
       "0   Amit   31           5    111   76804       8448\n",
       "1  Jeena   31           2    222   70350       8442\n",
       "2   John   36           4    333   86907       9559\n",
       "3  Vivek   35           9    444   77576       7757\n",
       "4   Luke   40           6    555   59766       5976"
      ]
     },
     "execution_count": 85,
     "metadata": {},
     "output_type": "execute_result"
    }
   ],
   "source": [
    "EmpSalary.head()"
   ]
  },
  {
   "cell_type": "code",
   "execution_count": 86,
   "metadata": {},
   "outputs": [],
   "source": [
    "EmployeeDb = EmpSalary.merge(city, on = \"EmpID\")"
   ]
  },
  {
   "cell_type": "code",
   "execution_count": 87,
   "metadata": {},
   "outputs": [
    {
     "data": {
      "text/html": [
       "<div>\n",
       "<style scoped>\n",
       "    .dataframe tbody tr th:only-of-type {\n",
       "        vertical-align: middle;\n",
       "    }\n",
       "\n",
       "    .dataframe tbody tr th {\n",
       "        vertical-align: top;\n",
       "    }\n",
       "\n",
       "    .dataframe thead th {\n",
       "        text-align: right;\n",
       "    }\n",
       "</style>\n",
       "<table border=\"1\" class=\"dataframe\">\n",
       "  <thead>\n",
       "    <tr style=\"text-align: right;\">\n",
       "      <th></th>\n",
       "      <th>Name</th>\n",
       "      <th>Age</th>\n",
       "      <th>Experience</th>\n",
       "      <th>EmpID</th>\n",
       "      <th>Salary</th>\n",
       "      <th>Increment</th>\n",
       "      <th>City</th>\n",
       "    </tr>\n",
       "  </thead>\n",
       "  <tbody>\n",
       "    <tr>\n",
       "      <th>0</th>\n",
       "      <td>Amit</td>\n",
       "      <td>31</td>\n",
       "      <td>5</td>\n",
       "      <td>111</td>\n",
       "      <td>76804</td>\n",
       "      <td>8448</td>\n",
       "      <td>Goa</td>\n",
       "    </tr>\n",
       "    <tr>\n",
       "      <th>1</th>\n",
       "      <td>Jeena</td>\n",
       "      <td>31</td>\n",
       "      <td>2</td>\n",
       "      <td>222</td>\n",
       "      <td>70350</td>\n",
       "      <td>8442</td>\n",
       "      <td>New York City</td>\n",
       "    </tr>\n",
       "    <tr>\n",
       "      <th>2</th>\n",
       "      <td>John</td>\n",
       "      <td>36</td>\n",
       "      <td>4</td>\n",
       "      <td>333</td>\n",
       "      <td>86907</td>\n",
       "      <td>9559</td>\n",
       "      <td>Troy</td>\n",
       "    </tr>\n",
       "    <tr>\n",
       "      <th>3</th>\n",
       "      <td>Vivek</td>\n",
       "      <td>35</td>\n",
       "      <td>9</td>\n",
       "      <td>444</td>\n",
       "      <td>77576</td>\n",
       "      <td>7757</td>\n",
       "      <td>Mumbai</td>\n",
       "    </tr>\n",
       "    <tr>\n",
       "      <th>4</th>\n",
       "      <td>Luke</td>\n",
       "      <td>40</td>\n",
       "      <td>6</td>\n",
       "      <td>555</td>\n",
       "      <td>59766</td>\n",
       "      <td>5976</td>\n",
       "      <td>Chennai</td>\n",
       "    </tr>\n",
       "  </tbody>\n",
       "</table>\n",
       "</div>"
      ],
      "text/plain": [
       "    Name  Age  Experience  EmpID  Salary  Increment           City\n",
       "0   Amit   31           5    111   76804       8448            Goa\n",
       "1  Jeena   31           2    222   70350       8442  New York City\n",
       "2   John   36           4    333   86907       9559           Troy\n",
       "3  Vivek   35           9    444   77576       7757         Mumbai\n",
       "4   Luke   40           6    555   59766       5976        Chennai"
      ]
     },
     "execution_count": 87,
     "metadata": {},
     "output_type": "execute_result"
    }
   ],
   "source": [
    "EmployeeDb.head()"
   ]
  },
  {
   "cell_type": "code",
   "execution_count": null,
   "metadata": {},
   "outputs": [],
   "source": []
  }
 ],
 "metadata": {
  "kernelspec": {
   "display_name": "Python 3",
   "language": "python",
   "name": "python3"
  },
  "language_info": {
   "codemirror_mode": {
    "name": "ipython",
    "version": 3
   },
   "file_extension": ".py",
   "mimetype": "text/x-python",
   "name": "python",
   "nbconvert_exporter": "python",
   "pygments_lexer": "ipython3",
   "version": "3.8.5"
  }
 },
 "nbformat": 4,
 "nbformat_minor": 4
}
