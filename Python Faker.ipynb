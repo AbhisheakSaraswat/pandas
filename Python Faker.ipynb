{
 "cells": [
  {
   "cell_type": "code",
   "execution_count": 3,
   "id": "6e052a37",
   "metadata": {},
   "outputs": [],
   "source": [
    "import pandas as pd\n",
    "import numpy as np\n",
    "import faker\n",
    "from faker import Faker\n",
    "import warnings\n",
    "warnings.filterwarnings(\"ignore\")"
   ]
  },
  {
   "cell_type": "code",
   "execution_count": 4,
   "id": "023cf6a1",
   "metadata": {},
   "outputs": [],
   "source": [
    "# !pip install faker --quiet"
   ]
  },
  {
   "cell_type": "code",
   "execution_count": 5,
   "id": "05b43a74",
   "metadata": {},
   "outputs": [],
   "source": [
    "fake = Faker()"
   ]
  },
  {
   "cell_type": "code",
   "execution_count": 8,
   "id": "c4d92cfd",
   "metadata": {},
   "outputs": [
    {
     "name": "stdout",
     "output_type": "stream",
     "text": [
      "name:  Stephanie Williams\n",
      "address:  429 Nicole Overpass Suite 759\n",
      "Solomonton, NE 68511\n",
      "name_male:  Evan Allen\n",
      "phone_number:  981-211-6506x50415\n",
      "street_address:  595 Richardson Village\n",
      "email:  billy31@example.net\n",
      "user_name:  glopez\n",
      "ipv4:  145.241.0.32\n",
      "sentence:  Baby group pick state against paper term war.\n"
     ]
    }
   ],
   "source": [
    "print(\"name: \", fake.name())\n",
    "print(\"address: \", fake.address())\n",
    "print(\"name_male: \", fake.name_male())\n",
    "print(\"phone_number: \", fake.phone_number())\n",
    "print(\"street_address: \", fake.street_address())\n",
    "print(\"email: \", fake.email())\n",
    "print(\"user_name: \", fake.user_name())\n",
    "print(\"ipv4: \", fake.ipv4())\n",
    "print(\"sentence: \", fake.sentence())"
   ]
  },
  {
   "cell_type": "code",
   "execution_count": 10,
   "id": "fc0136f4",
   "metadata": {},
   "outputs": [
    {
     "name": "stdout",
     "output_type": "stream",
     "text": [
      "Agricultural consultant\n",
      "1915-01-05\n",
      "Brown PLC\n",
      "company_email:  brandonlyons@burton.com\n",
      "color_name:  Crimson\n",
      "color:  #25baad\n",
      "password:  #Qh4JP!rpR\n"
     ]
    }
   ],
   "source": [
    "print(fake.job())\n",
    "print(fake.date_of_birth())\n",
    "print(fake.company())\n",
    "print(\"company_email: \", fake.company_email())\n",
    "print(\"color_name: \", fake.color_name())\n",
    "print(\"color: \", fake.color()) # Hexa color)\n",
    "print(\"password: \", fake.password())"
   ]
  },
  {
   "cell_type": "code",
   "execution_count": 11,
   "id": "8eb0e76a",
   "metadata": {},
   "outputs": [],
   "source": [
    "# How to generate dates"
   ]
  },
  {
   "cell_type": "code",
   "execution_count": 12,
   "id": "e0f595f6",
   "metadata": {},
   "outputs": [
    {
     "name": "stdout",
     "output_type": "stream",
     "text": [
      "2023-04-15\n",
      "2022-12-05\n",
      "2022-11-03\n",
      "2022-09-02\n",
      "2023-02-05\n",
      "2022-11-16\n",
      "2023-03-11\n",
      "2022-10-26\n",
      "2023-03-29\n",
      "2022-07-14\n"
     ]
    }
   ],
   "source": [
    "for _ in range(10):\n",
    "    print(fake.date_between(start_date = '-1y', end_date = 'today'))"
   ]
  },
  {
   "cell_type": "code",
   "execution_count": 13,
   "id": "d55788e9",
   "metadata": {},
   "outputs": [
    {
     "name": "stdout",
     "output_type": "stream",
     "text": [
      "April Nelson\n",
      "Kathleen Murray\n",
      "Debbie Garrett\n",
      "Brittany Clarke\n",
      "Jamie Colon\n",
      "Robin Gonzales\n",
      "Karen Chapman\n",
      "Samantha Hayes\n",
      "Rebecca Martinez\n",
      "Teresa Ward\n",
      "Patricia Douglas\n",
      "Heather Wise\n",
      "Sarah Wilkinson\n",
      "Heather Thomas\n",
      "Christina Simon\n",
      "Caitlin Vasquez\n",
      "Melissa Ruiz\n",
      "Angela Carpenter\n",
      "Rhonda Becker\n",
      "Rita Herrera\n"
     ]
    }
   ],
   "source": [
    "for _ in range(20):\n",
    "    print(fake.name_female())"
   ]
  },
  {
   "cell_type": "markdown",
   "id": "7c3ab0c5",
   "metadata": {},
   "source": [
    "### Private IPs"
   ]
  },
  {
   "cell_type": "code",
   "execution_count": 14,
   "id": "9d85a7f2",
   "metadata": {},
   "outputs": [],
   "source": [
    "from faker.providers import internet"
   ]
  },
  {
   "cell_type": "code",
   "execution_count": 15,
   "id": "2120f92a",
   "metadata": {},
   "outputs": [
    {
     "name": "stdout",
     "output_type": "stream",
     "text": [
      "192.168.73.1\n"
     ]
    }
   ],
   "source": [
    "fake.add_provider(internet)\n",
    "print(fake.ipv4_private())"
   ]
  },
  {
   "cell_type": "markdown",
   "id": "5672b2b8",
   "metadata": {},
   "source": [
    "### Based on Region also you can generate Local names:"
   ]
  },
  {
   "cell_type": "code",
   "execution_count": 16,
   "id": "d96ec8e3",
   "metadata": {},
   "outputs": [
    {
     "name": "stdout",
     "output_type": "stream",
     "text": [
      "佐藤 直子\n",
      "林 治\n",
      "清水 涼平\n",
      "Pietro Grasso\n",
      "Sana Saraf\n",
      "Mary Liu\n",
      "Dott. Priscilla Serao\n",
      "伊藤 拓真\n",
      "山本 稔\n",
      "松本 晃\n",
      "Vihaan Subramaniam\n",
      "Thomas Adams\n",
      "Michelangelo Barillaro\n",
      "Damini Bali\n",
      "Vito Stradivari\n",
      "Gemma Magnani\n",
      "Brent Booth\n",
      "Miraya Chada\n",
      "山下 舞\n",
      "Goffredo Borsiere\n"
     ]
    }
   ],
   "source": [
    "fake = faker.Faker(['it_IT','en_US','ja_JP','en_IN'])\n",
    "for _ in range(20):\n",
    "    print(fake.name())"
   ]
  },
  {
   "cell_type": "markdown",
   "id": "ac50f6c4",
   "metadata": {},
   "source": [
    "### Unit Testing"
   ]
  },
  {
   "cell_type": "code",
   "execution_count": 18,
   "id": "30ac18da",
   "metadata": {},
   "outputs": [
    {
     "name": "stdout",
     "output_type": "stream",
     "text": [
      "Vihaan Goda\n"
     ]
    }
   ],
   "source": [
    "Faker.seed(1000)\n",
    "print(fake.name())"
   ]
  },
  {
   "cell_type": "code",
   "execution_count": 19,
   "id": "3aa82119",
   "metadata": {},
   "outputs": [
    {
     "name": "stdout",
     "output_type": "stream",
     "text": [
      "Romolo Pisacane\n"
     ]
    }
   ],
   "source": [
    "Faker.seed(1020)\n",
    "print(fake.name())"
   ]
  },
  {
   "cell_type": "markdown",
   "id": "3b869de2",
   "metadata": {},
   "source": [
    "### Generate 100 unique name using Faker"
   ]
  },
  {
   "cell_type": "code",
   "execution_count": 20,
   "id": "9fad75db",
   "metadata": {},
   "outputs": [],
   "source": [
    "names = [fake.unique.first_name() for i in range(100)]\n",
    "assert len(set(names)) == len(names)"
   ]
  },
  {
   "cell_type": "code",
   "execution_count": 21,
   "id": "f39f06d0",
   "metadata": {},
   "outputs": [
    {
     "name": "stdout",
     "output_type": "stream",
     "text": [
      "['Kenneth', 'Carolyn', '洋介', '学', 'Badal', 'Gokul', 'Claudia', 'Kabir', 'Khushi', 'Carmelo', 'Paul', 'Eshani', 'Elena', 'Aarav', 'Vivaan', 'Gregory', 'Nadia', 'Lisa', '智也', '裕太', 'Alessia', '拓真', 'Massimo', 'Carla', 'Gabrielle', 'Galasso', 'さゆり', 'Ermenegildo', '裕美子', 'Michelangelo', '翔太', 'Livia', 'Holly', '七夏', '太一', '香織', 'Kimberly', 'Diana', 'Sana', 'Tina', 'Ojas', 'Phyllis', '涼平', 'Enrico', 'Dhruv', 'Divij', 'Mamooty', 'Joanna', 'Giorgio', 'Vittorio', 'Inaaya ', 'あすか', '治', 'Alexis', '知実', 'Lagan', 'Siya', 'Onkar', 'Arnaldo', 'Nirvaan', 'Reyansh', 'Bhavin', 'Yuvaan', 'Cecilia', 'Orazio', 'Liliana', '桃子', 'Marcello', 'Zara', 'Gianfrancesco', '聡太郎', 'Farhan', 'Tammy', 'Michael', 'Curtis', 'Lucia', 'Martino', 'Gatik', 'Sandra', 'Jessica', 'Hunar', '裕樹', 'Cassie', 'Pranay', 'Raffaellino', 'Aniruddh', 'Shaan', 'Raunak', '幹', 'Raffaele', 'Zeeshan', '太郎', 'Raghav', 'Philip', 'Kevin', 'Jacob', 'Donna', '明美', 'Federico', 'Jivin']\n"
     ]
    }
   ],
   "source": [
    "print(names)"
   ]
  },
  {
   "cell_type": "markdown",
   "id": "82dab3e8",
   "metadata": {},
   "source": [
    "### How you can generate random Text that follows a specific pattern or format?"
   ]
  },
  {
   "cell_type": "code",
   "execution_count": 22,
   "id": "5d366f77",
   "metadata": {},
   "outputs": [],
   "source": [
    "customer_name = fake.bothify(text = '????####', letters = 'ABCDE')"
   ]
  },
  {
   "cell_type": "code",
   "execution_count": 26,
   "id": "a8a67e46",
   "metadata": {},
   "outputs": [
    {
     "data": {
      "text/plain": [
       "'EECC1001'"
      ]
     },
     "execution_count": 26,
     "metadata": {},
     "output_type": "execute_result"
    }
   ],
   "source": [
    "customer_name"
   ]
  },
  {
   "cell_type": "code",
   "execution_count": 28,
   "id": "b55f8d48",
   "metadata": {},
   "outputs": [
    {
     "name": "stdout",
     "output_type": "stream",
     "text": [
      "CEEE3481 EEAA2498 AADB1708 BCBD2619 AAAE4317 DAEE9120 DBDE3595 EBBA8072 CEDB1620 CEDC8996 BABE8157 BEDD5006 ABBB4539 EBBE9080 DECE0706 BDCA4003 EDDC8729 CAAB0141 ECEE0901 BCDB9042 "
     ]
    }
   ],
   "source": [
    "for i in range(20):\n",
    "    print(fake.bothify(text = '????####', letters = 'ABCDE'), end = \" \")"
   ]
  },
  {
   "cell_type": "markdown",
   "id": "0376e5f6",
   "metadata": {},
   "source": [
    "### Generate Data in the form of Pandas DataFrame"
   ]
  },
  {
   "cell_type": "code",
   "execution_count": 1,
   "id": "a3dbcde6",
   "metadata": {},
   "outputs": [],
   "source": [
    "from faker.providers import misc, date_time, address\n",
    "import random"
   ]
  },
  {
   "cell_type": "code",
   "execution_count": 6,
   "id": "4acba5e3",
   "metadata": {},
   "outputs": [],
   "source": [
    "order_ids = [fake.bothify(text = '????####', letters = 'ABCDE') for _ in range(100)]\n",
    "order_dates = pd.date_range(start = \"2022-01-01\", end = \"2022-04-10\", periods = 100)\n",
    "customers = [fake.name() for _ in range(100)]\n",
    "regions = [fake.random_element(elements = ('East','West','North','South')) for _ in range(100)]\n",
    "categories = ['Grocery' for _ in range(100)]\n",
    "subcategories = [fake.random_element(elements = ('Bakery','Canned Goods','Dairy','Produce','Snacks')) for _ in range(100)]\n",
    "grocery_words = ['break','milk','cheese','eggs','butter','flour','suger','rice','pasta']\n",
    "product = [fake.random_element(elements = grocery_words) for _ in range(100)]\n",
    "states = [fake.state() for _ in range(100)]\n",
    "\n",
    "sales = [round(random.uniform(500,10000),2) for _ in range(100)]\n",
    "profit = [round(random.uniform(50,2000),2) for _ in range(100)]\n",
    "quantity = [random.randint(1,20) for _ in range(100)]\n"
   ]
  },
  {
   "cell_type": "code",
   "execution_count": 7,
   "id": "277bdfdc",
   "metadata": {},
   "outputs": [],
   "source": [
    "data = {\"Order_ID\" : order_ids,\n",
    "       'Order_Date': order_dates,\n",
    "       'Customer':customers,\n",
    "       'Region': regions,\n",
    "       'Category':categories,'Sub_Category':subcategories,\"Product\":product,\n",
    "       'State':states, 'Sales':sales,\"Profit\":profit,\"Quantity\":quantity}"
   ]
  },
  {
   "cell_type": "code",
   "execution_count": 8,
   "id": "6d8b25bf",
   "metadata": {},
   "outputs": [
    {
     "data": {
      "text/plain": [
       "dict_keys(['Order_ID', 'Order_Date', 'Customer', 'Region', 'Category', 'Sub_Category', 'Product', 'State', 'Sales', 'Profit', 'Quantity'])"
      ]
     },
     "execution_count": 8,
     "metadata": {},
     "output_type": "execute_result"
    }
   ],
   "source": [
    "data.keys()"
   ]
  },
  {
   "cell_type": "code",
   "execution_count": 32,
   "id": "647cbd8a",
   "metadata": {},
   "outputs": [],
   "source": [
    "df = pd.DataFrame(data)"
   ]
  },
  {
   "cell_type": "code",
   "execution_count": 33,
   "id": "e8fc4fe6",
   "metadata": {},
   "outputs": [
    {
     "data": {
      "text/html": [
       "<div>\n",
       "<style scoped>\n",
       "    .dataframe tbody tr th:only-of-type {\n",
       "        vertical-align: middle;\n",
       "    }\n",
       "\n",
       "    .dataframe tbody tr th {\n",
       "        vertical-align: top;\n",
       "    }\n",
       "\n",
       "    .dataframe thead th {\n",
       "        text-align: right;\n",
       "    }\n",
       "</style>\n",
       "<table border=\"1\" class=\"dataframe\">\n",
       "  <thead>\n",
       "    <tr style=\"text-align: right;\">\n",
       "      <th></th>\n",
       "      <th>Order_ID</th>\n",
       "      <th>Order_Date</th>\n",
       "      <th>Customer</th>\n",
       "      <th>Region</th>\n",
       "      <th>Category</th>\n",
       "      <th>Sub_Category</th>\n",
       "      <th>Product</th>\n",
       "      <th>State</th>\n",
       "      <th>Sales</th>\n",
       "      <th>Profit</th>\n",
       "      <th>Quantity</th>\n",
       "    </tr>\n",
       "  </thead>\n",
       "  <tbody>\n",
       "    <tr>\n",
       "      <th>0</th>\n",
       "      <td>AACD3780</td>\n",
       "      <td>2022-01-01</td>\n",
       "      <td>後藤 京助</td>\n",
       "      <td>West</td>\n",
       "      <td>Grocery</td>\n",
       "      <td>Canned Goods</td>\n",
       "      <td>cheese</td>\n",
       "      <td>Trento</td>\n",
       "      <td>3029.92</td>\n",
       "      <td>498.33</td>\n",
       "      <td>9</td>\n",
       "    </tr>\n",
       "    <tr>\n",
       "      <th>1</th>\n",
       "      <td>ABEC7644</td>\n",
       "      <td>2022-01-02</td>\n",
       "      <td>Jon Jones</td>\n",
       "      <td>North</td>\n",
       "      <td>Grocery</td>\n",
       "      <td>Bakery</td>\n",
       "      <td>milk</td>\n",
       "      <td>Sikkim</td>\n",
       "      <td>3140.81</td>\n",
       "      <td>1365.98</td>\n",
       "      <td>20</td>\n",
       "    </tr>\n",
       "    <tr>\n",
       "      <th>2</th>\n",
       "      <td>ADDA7617</td>\n",
       "      <td>2022-01-03</td>\n",
       "      <td>Steven Chen</td>\n",
       "      <td>East</td>\n",
       "      <td>Grocery</td>\n",
       "      <td>Produce</td>\n",
       "      <td>eggs</td>\n",
       "      <td>Crotone</td>\n",
       "      <td>9436.63</td>\n",
       "      <td>971.81</td>\n",
       "      <td>10</td>\n",
       "    </tr>\n",
       "    <tr>\n",
       "      <th>3</th>\n",
       "      <td>ACCC9844</td>\n",
       "      <td>2022-01-04</td>\n",
       "      <td>Sean Henry</td>\n",
       "      <td>West</td>\n",
       "      <td>Grocery</td>\n",
       "      <td>Canned Goods</td>\n",
       "      <td>eggs</td>\n",
       "      <td>Utah</td>\n",
       "      <td>1163.23</td>\n",
       "      <td>1332.80</td>\n",
       "      <td>12</td>\n",
       "    </tr>\n",
       "    <tr>\n",
       "      <th>4</th>\n",
       "      <td>CECC4546</td>\n",
       "      <td>2022-01-05</td>\n",
       "      <td>Mishti Ghosh</td>\n",
       "      <td>East</td>\n",
       "      <td>Grocery</td>\n",
       "      <td>Bakery</td>\n",
       "      <td>cheese</td>\n",
       "      <td>Modena</td>\n",
       "      <td>4294.12</td>\n",
       "      <td>235.71</td>\n",
       "      <td>5</td>\n",
       "    </tr>\n",
       "  </tbody>\n",
       "</table>\n",
       "</div>"
      ],
      "text/plain": [
       "   Order_ID Order_Date      Customer Region Category  Sub_Category Product  \\\n",
       "0  AACD3780 2022-01-01         後藤 京助   West  Grocery  Canned Goods  cheese   \n",
       "1  ABEC7644 2022-01-02     Jon Jones  North  Grocery        Bakery    milk   \n",
       "2  ADDA7617 2022-01-03   Steven Chen   East  Grocery       Produce    eggs   \n",
       "3  ACCC9844 2022-01-04    Sean Henry   West  Grocery  Canned Goods    eggs   \n",
       "4  CECC4546 2022-01-05  Mishti Ghosh   East  Grocery        Bakery  cheese   \n",
       "\n",
       "     State    Sales   Profit  Quantity  \n",
       "0   Trento  3029.92   498.33         9  \n",
       "1   Sikkim  3140.81  1365.98        20  \n",
       "2  Crotone  9436.63   971.81        10  \n",
       "3     Utah  1163.23  1332.80        12  \n",
       "4   Modena  4294.12   235.71         5  "
      ]
     },
     "execution_count": 33,
     "metadata": {},
     "output_type": "execute_result"
    }
   ],
   "source": [
    "df.head()"
   ]
  },
  {
   "cell_type": "markdown",
   "id": "eb405595",
   "metadata": {},
   "source": [
    "### How to generate Fake Images"
   ]
  },
  {
   "cell_type": "code",
   "execution_count": 34,
   "id": "b6e52cba",
   "metadata": {},
   "outputs": [],
   "source": [
    "image_urls = [fake.image_url() for _ in range(10)]"
   ]
  },
  {
   "cell_type": "code",
   "execution_count": 35,
   "id": "7fe55ace",
   "metadata": {},
   "outputs": [
    {
     "data": {
      "text/plain": [
       "['https://picsum.photos/642/992',\n",
       " 'https://placekitten.com/773/273',\n",
       " 'https://placekitten.com/235/465',\n",
       " 'https://picsum.photos/310/226',\n",
       " 'https://dummyimage.com/303x374',\n",
       " 'https://placekitten.com/84/735',\n",
       " 'https://picsum.photos/253/732',\n",
       " 'https://dummyimage.com/504x892',\n",
       " 'https://picsum.photos/92/68',\n",
       " 'https://picsum.photos/599/192']"
      ]
     },
     "execution_count": 35,
     "metadata": {},
     "output_type": "execute_result"
    }
   ],
   "source": [
    "image_urls"
   ]
  },
  {
   "cell_type": "markdown",
   "id": "074b8910",
   "metadata": {},
   "source": [
    "### Faker Simple_Profile"
   ]
  },
  {
   "cell_type": "code",
   "execution_count": 36,
   "id": "8de80f67",
   "metadata": {},
   "outputs": [
    {
     "data": {
      "text/plain": [
       "{'job': 'Doctor, general practice',\n",
       " 'company': 'Wable-Konda',\n",
       " 'ssn': '496-54-9256',\n",
       " 'residence': '40/51\\nTalwar Circle\\nOrai 005954',\n",
       " 'current_location': (Decimal('73.8672415'), Decimal('102.003458')),\n",
       " 'blood_group': 'A-',\n",
       " 'website': ['https://kibe.com/',\n",
       "  'https://www.jha.com/',\n",
       "  'http://bawa.com/',\n",
       "  'https://chadha.org/'],\n",
       " 'username': 'riaanedwin',\n",
       " 'name': 'Lagan Kunda',\n",
       " 'sex': 'F',\n",
       " 'address': 'H.No. 720\\nDate Street, Kulti-149167',\n",
       " 'mail': 'tejasbose@hotmail.com',\n",
       " 'birthdate': datetime.date(1983, 9, 15)}"
      ]
     },
     "execution_count": 36,
     "metadata": {},
     "output_type": "execute_result"
    }
   ],
   "source": [
    "fake.profile()"
   ]
  },
  {
   "cell_type": "code",
   "execution_count": 38,
   "id": "e29b668e",
   "metadata": {},
   "outputs": [
    {
     "data": {
      "text/plain": [
       "{'username': 'elliotttracey',\n",
       " 'name': 'Peter Lang',\n",
       " 'sex': 'M',\n",
       " 'address': '012 Patty Court Suite 500\\nBrendantown, ME 65894',\n",
       " 'mail': 'smithbelinda@gmail.com',\n",
       " 'birthdate': datetime.date(1930, 10, 3)}"
      ]
     },
     "execution_count": 38,
     "metadata": {},
     "output_type": "execute_result"
    }
   ],
   "source": [
    "fake.simple_profile()"
   ]
  },
  {
   "cell_type": "code",
   "execution_count": 49,
   "id": "cd9cc5eb",
   "metadata": {},
   "outputs": [
    {
     "data": {
      "text/html": [
       "<div>\n",
       "<style scoped>\n",
       "    .dataframe tbody tr th:only-of-type {\n",
       "        vertical-align: middle;\n",
       "    }\n",
       "\n",
       "    .dataframe tbody tr th {\n",
       "        vertical-align: top;\n",
       "    }\n",
       "\n",
       "    .dataframe thead th {\n",
       "        text-align: right;\n",
       "    }\n",
       "</style>\n",
       "<table border=\"1\" class=\"dataframe\">\n",
       "  <thead>\n",
       "    <tr style=\"text-align: right;\">\n",
       "      <th></th>\n",
       "      <th>username</th>\n",
       "      <th>name</th>\n",
       "      <th>sex</th>\n",
       "      <th>address</th>\n",
       "      <th>mail</th>\n",
       "      <th>birthdate</th>\n",
       "    </tr>\n",
       "  </thead>\n",
       "  <tbody>\n",
       "    <tr>\n",
       "      <th>0</th>\n",
       "      <td>groveranya</td>\n",
       "      <td>Hridaan Halder</td>\n",
       "      <td>M</td>\n",
       "      <td>93/809\\nKannan Street, Ujjain 309318</td>\n",
       "      <td>pihu61@gmail.com</td>\n",
       "      <td>1915-07-25</td>\n",
       "    </tr>\n",
       "    <tr>\n",
       "      <th>1</th>\n",
       "      <td>ambermacias</td>\n",
       "      <td>Jessica Wallace DDS</td>\n",
       "      <td>F</td>\n",
       "      <td>281 Lawson Skyway\\nWoodsfurt, ND 04497</td>\n",
       "      <td>poncetheresa@hotmail.com</td>\n",
       "      <td>1942-11-21</td>\n",
       "    </tr>\n",
       "    <tr>\n",
       "      <th>2</th>\n",
       "      <td>naoki55</td>\n",
       "      <td>森 和也</td>\n",
       "      <td>M</td>\n",
       "      <td>岡山県東村山市西浅草12丁目1番13号 筑土八幡町パレス360</td>\n",
       "      <td>mtanaka@gmail.com</td>\n",
       "      <td>2009-10-24</td>\n",
       "    </tr>\n",
       "    <tr>\n",
       "      <th>3</th>\n",
       "      <td>ocooper</td>\n",
       "      <td>Denise Hamilton</td>\n",
       "      <td>F</td>\n",
       "      <td>3547 Terry Walks Suite 327\\nHunterbury, PW 80050</td>\n",
       "      <td>mezarose@yahoo.com</td>\n",
       "      <td>1931-09-22</td>\n",
       "    </tr>\n",
       "    <tr>\n",
       "      <th>4</th>\n",
       "      <td>yolanda82</td>\n",
       "      <td>Danielle Wilson</td>\n",
       "      <td>F</td>\n",
       "      <td>413 Burns Knoll Suite 727\\nChristinaton, KY 43754</td>\n",
       "      <td>nbush@hotmail.com</td>\n",
       "      <td>1946-01-30</td>\n",
       "    </tr>\n",
       "  </tbody>\n",
       "</table>\n",
       "</div>"
      ],
      "text/plain": [
       "      username                 name sex  \\\n",
       "0   groveranya       Hridaan Halder   M   \n",
       "1  ambermacias  Jessica Wallace DDS   F   \n",
       "2      naoki55                 森 和也   M   \n",
       "3      ocooper      Denise Hamilton   F   \n",
       "4    yolanda82      Danielle Wilson   F   \n",
       "\n",
       "                                             address  \\\n",
       "0               93/809\\nKannan Street, Ujjain 309318   \n",
       "1             281 Lawson Skyway\\nWoodsfurt, ND 04497   \n",
       "2                    岡山県東村山市西浅草12丁目1番13号 筑土八幡町パレス360   \n",
       "3   3547 Terry Walks Suite 327\\nHunterbury, PW 80050   \n",
       "4  413 Burns Knoll Suite 727\\nChristinaton, KY 43754   \n",
       "\n",
       "                       mail   birthdate  \n",
       "0          pihu61@gmail.com  1915-07-25  \n",
       "1  poncetheresa@hotmail.com  1942-11-21  \n",
       "2         mtanaka@gmail.com  2009-10-24  \n",
       "3        mezarose@yahoo.com  1931-09-22  \n",
       "4         nbush@hotmail.com  1946-01-30  "
      ]
     },
     "execution_count": 49,
     "metadata": {},
     "output_type": "execute_result"
    }
   ],
   "source": [
    "Faker.seed(12)\n",
    "simple_profile = [fake.simple_profile() for i in range(100)]\n",
    "df1 = pd.DataFrame(simple_profile)\n",
    "df1.head()"
   ]
  },
  {
   "cell_type": "code",
   "execution_count": 50,
   "id": "ea4e49e3",
   "metadata": {},
   "outputs": [
    {
     "name": "stdout",
     "output_type": "stream",
     "text": [
      "['_cached_bothify_mapping', '_cached_first_name_mapping', '_cached_image_mapping', '_cached_image_url_mapping', '_cached_name_mapping', '_cached_profile_mapping', '_cached_providers_mapping', '_cached_random_choices_mapping', '_cached_random_digit_mapping', '_cached_random_digit_not_null_mapping', '_cached_random_digit_not_null_or_empty_mapping', '_cached_random_digit_or_empty_mapping', '_cached_random_element_mapping', '_cached_random_elements_mapping', '_cached_random_int_mapping', '_cached_random_letter_mapping', '_cached_random_letters_mapping', '_cached_random_lowercase_letter_mapping', '_cached_random_number_mapping', '_cached_random_sample_mapping', '_cached_random_uppercase_letter_mapping', '_cached_randomize_nb_elements_mapping', '_cached_rgb_color_mapping', '_cached_rgb_css_color_mapping', '_cached_ripe_id_mapping', '_cached_romanized_name_female_mapping', '_cached_romanized_name_male_mapping', '_cached_romanized_name_mapping', '_cached_secondary_address_mapping', '_cached_sentence_mapping', '_cached_sentences_mapping', '_cached_simple_profile_mapping', '_cached_state_mapping', '_factories', '_factory_map', '_locales', '_map_provider_method', '_select_factory', '_select_factory_choice', '_select_factory_distribution', '_unique_proxy', '_weights', 'aadhaar_id', 'aba', 'add_provider', 'address', 'administrative_unit', 'am_pm', 'android_platform_token', 'area_code', 'ascii_company_email', 'ascii_email', 'ascii_free_email', 'ascii_safe_email', 'ban', 'bank', 'bank_country', 'bban', 'binary', 'boolean', 'bothify', 'bs', 'building_name', 'building_number', 'cache_pattern', 'catch_phrase', 'century', 'chome', 'chrome', 'city', 'city_name', 'city_prefix', 'city_suffix', 'color', 'color_name', 'company', 'company_category', 'company_email', 'company_prefix', 'company_suffix', 'company_vat', 'coordinate', 'country', 'country_calling_code', 'country_code', 'credit_card_expire', 'credit_card_full', 'credit_card_number', 'credit_card_provider', 'credit_card_security_code', 'cryptocurrency', 'cryptocurrency_code', 'cryptocurrency_name', 'csv', 'currency', 'currency_code', 'currency_name', 'currency_symbol', 'current_country', 'current_country_code', 'date', 'date_between', 'date_between_dates', 'date_object', 'date_of_birth', 'date_this_century', 'date_this_decade', 'date_this_month', 'date_this_year', 'date_time', 'date_time_ad', 'date_time_between', 'date_time_between_dates', 'date_time_this_century', 'date_time_this_decade', 'date_time_this_month', 'date_time_this_year', 'day_of_month', 'day_of_week', 'del_arguments', 'dga', 'domain_name', 'domain_word', 'dsv', 'ean', 'ean13', 'ean8', 'ein', 'email', 'emoji', 'enum', 'factories', 'file_extension', 'file_name', 'file_path', 'firefox', 'first_kana_name', 'first_kana_name_female', 'first_kana_name_male', 'first_name', 'first_name_female', 'first_name_female_pair', 'first_name_male', 'first_name_male_pair', 'first_name_nonbinary', 'first_name_pair', 'first_romanized_name', 'first_romanized_name_female', 'first_romanized_name_male', 'fixed_width', 'format', 'free_email', 'free_email_domain', 'future_date', 'future_datetime', 'generator_attrs', 'get_arguments', 'get_formatter', 'get_providers', 'gou', 'hex_color', 'hexify', 'hostname', 'http_method', 'iana_id', 'iban', 'image', 'image_url', 'internet_explorer', 'invalid_ssn', 'ios_platform_token', 'ipv4', 'ipv4_network_class', 'ipv4_private', 'ipv4_public', 'ipv6', 'isbn10', 'isbn13', 'iso8601', 'items', 'itin', 'jan', 'jan13', 'jan8', 'job', 'json', 'json_bytes', 'kana_name', 'kana_name_female', 'kana_name_male', 'language_code', 'language_name', 'last_kana_name', 'last_name', 'last_name_female', 'last_name_male', 'last_name_nonbinary', 'last_name_pair', 'last_romanized_name', 'latitude', 'latlng', 'lexify', 'license_plate', 'linux_platform_token', 'linux_processor', 'local_latlng', 'locale', 'locales', 'localized_ean', 'localized_ean13', 'localized_ean8', 'location_on_land', 'longitude', 'mac_address', 'mac_platform_token', 'mac_processor', 'md5', 'military_apo', 'military_dpo', 'military_ship', 'military_state', 'mime_type', 'month', 'month_name', 'msisdn', 'name', 'name_female', 'name_male', 'name_nonbinary', 'nic_handle', 'nic_handles', 'null_boolean', 'numerify', 'opera', 'paragraph', 'paragraphs', 'parse', 'password', 'past_date', 'past_datetime', 'phone_number', 'port_number', 'postalcode', 'postalcode_in_state', 'postalcode_plus4', 'postcode', 'postcode_city_province', 'postcode_in_state', 'prefecture', 'prefix', 'prefix_female', 'prefix_male', 'prefix_nonbinary', 'pricetag', 'profile', 'provider', 'providers', 'psv', 'pybool', 'pydecimal', 'pydict', 'pyfloat', 'pyint', 'pyiterable', 'pylist', 'pyobject', 'pyset', 'pystr', 'pystr_format', 'pystruct', 'pytimezone', 'pytuple', 'random', 'random_choices', 'random_digit', 'random_digit_not_null', 'random_digit_not_null_or_empty', 'random_digit_or_empty', 'random_element', 'random_elements', 'random_int', 'random_letter', 'random_letters', 'random_lowercase_letter', 'random_number', 'random_sample', 'random_uppercase_letter', 'randomize_nb_elements', 'rgb_color', 'rgb_css_color', 'ripe_id', 'romanized_name', 'romanized_name_female', 'romanized_name_male', 'safari', 'safe_color_name', 'safe_domain_name', 'safe_email', 'safe_hex_color', 'sbn9', 'secondary_address', 'seed', 'seed_instance', 'seed_locale', 'sentence', 'sentences', 'set_arguments', 'set_formatter', 'sha1', 'sha256', 'simple_profile', 'slug', 'ssn', 'state', 'state_abbr', 'street_address', 'street_name', 'street_suffix', 'suffix', 'suffix_female', 'suffix_male', 'suffix_nonbinary', 'swift', 'swift11', 'swift8', 'tar', 'text', 'texts', 'time', 'time_delta', 'time_object', 'time_series', 'timezone', 'tld', 'town', 'tsv', 'unique', 'unix_device', 'unix_partition', 'unix_time', 'upc_a', 'upc_e', 'uri', 'uri_extension', 'uri_page', 'uri_path', 'url', 'user_agent', 'user_name', 'uuid4', 'vat_id', 'weights', 'windows_platform_token', 'word', 'words', 'year', 'zip', 'zipcode', 'zipcode_in_state', 'zipcode_plus4']\n"
     ]
    }
   ],
   "source": [
    "print([i for i in dir(fake) if \"__\" not in i])"
   ]
  },
  {
   "cell_type": "code",
   "execution_count": null,
   "id": "616b5776",
   "metadata": {},
   "outputs": [],
   "source": []
  }
 ],
 "metadata": {
  "kernelspec": {
   "display_name": "Python 3 (ipykernel)",
   "language": "python",
   "name": "python3"
  },
  "language_info": {
   "codemirror_mode": {
    "name": "ipython",
    "version": 3
   },
   "file_extension": ".py",
   "mimetype": "text/x-python",
   "name": "python",
   "nbconvert_exporter": "python",
   "pygments_lexer": "ipython3",
   "version": "3.11.2"
  }
 },
 "nbformat": 4,
 "nbformat_minor": 5
}
